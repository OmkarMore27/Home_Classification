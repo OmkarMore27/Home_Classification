{
 "cells": [
  {
   "cell_type": "markdown",
   "id": "66c8d723",
   "metadata": {},
   "source": [
    "# Home Loan Classification"
   ]
  },
  {
   "cell_type": "markdown",
   "id": "2ba7cae3",
   "metadata": {},
   "source": [
    "# \n",
    "1. Housing Finance company which provide home loans for the houses that are present across all urban, semiurban and rural areas for their valued customers.\n",
    "2. The company validates the eligibility of loan after customer applies for the loan. However, it consumes lot of time for the manual validation of eligibility process.\n",
    "3. Hence, the company wants to automate the loan elibility process based on the customer information and identify the factors/customer segments who are eligible for taking the loan.\n",
    "4. As banks would give loans to only those customers who are eligible so that they can be assured of getting the money back.\n",
    "5. Hence, the more accurate we are in predicting the eligible customers, the more beneficial it would be for the company."
   ]
  },
  {
   "cell_type": "markdown",
   "id": "559bc4cb",
   "metadata": {},
   "source": [
    "#  PROBLEM STATEMENT"
   ]
  },
  {
   "cell_type": "markdown",
   "id": "07ebb3f1",
   "metadata": {},
   "source": [
    "Dream Housing Finance company deals in all home loans. They have a presence across all urban, semi-urban and rural areas. Customers first apply for a home loan after that company validates the customer’s eligibility for a loan. The company wants to automate the loan eligibility process (real-time) based on customer detail provided while filling out the online application form. These details are Gender, Marital Status, Education, Number of Dependents, Income, Loan Amount, Credit History, and others. To automate this process, they have given a problem to identify the customer segments, that are eligible for loan amounts so that they can specifically target these customers."
   ]
  },
  {
   "cell_type": "markdown",
   "id": "d4ab4b2d",
   "metadata": {},
   "source": [
    "# TYPE OF PROBLEM"
   ]
  },
  {
   "cell_type": "markdown",
   "id": "c6b6ae0f",
   "metadata": {},
   "source": [
    "The above problem is clearly classification problem as we need to classify whether the Loan_Status is yes or no. So this can be solved by any of the classification techniques like Logistic Regression, Random Forest , Decision Tree , SVM etc.\n",
    "\n",
    "Its very important to know about the data columns before we step into the actual problem. Here we have 2 data sets given. One is the training data and the other is testing data."
   ]
  },
  {
   "cell_type": "code",
   "execution_count": 1,
   "id": "b79d94c6",
   "metadata": {},
   "outputs": [],
   "source": [
    "import pandas as pd\n",
    "import seaborn as sns\n",
    "import numpy as np\n",
    "from matplotlib import pyplot as plt\n",
    "from sklearn.preprocessing import LabelEncoder,StandardScaler,MinMaxScaler\n",
    "from sklearn.linear_model import LogisticRegression\n",
    "from sklearn.tree import DecisionTreeClassifier\n",
    "from sklearn.ensemble import RandomForestClassifier,GradientBoostingClassifier,AdaBoostClassifier\n",
    "from sklearn.svm import SVC\n",
    "from sklearn.neighbors import KNeighborsClassifier\n",
    "from xgboost import XGBClassifier\n",
    "from sklearn.metrics import accuracy_score,roc_curve,roc_auc_score,confusion_matrix,ConfusionMatrixDisplay,classification_report,precision_score,recall_score\n",
    "from sklearn.model_selection import train_test_split\n",
    "from imblearn.over_sampling import SMOTE\n",
    "import warnings\n",
    "warnings.filterwarnings('ignore')"
   ]
  },
  {
   "cell_type": "markdown",
   "id": "21af5d37",
   "metadata": {},
   "source": [
    "# Importing Data"
   ]
  },
  {
   "cell_type": "code",
   "execution_count": 2,
   "id": "4e10f5fd",
   "metadata": {},
   "outputs": [
    {
     "data": {
      "text/html": [
       "<div>\n",
       "<style scoped>\n",
       "    .dataframe tbody tr th:only-of-type {\n",
       "        vertical-align: middle;\n",
       "    }\n",
       "\n",
       "    .dataframe tbody tr th {\n",
       "        vertical-align: top;\n",
       "    }\n",
       "\n",
       "    .dataframe thead th {\n",
       "        text-align: right;\n",
       "    }\n",
       "</style>\n",
       "<table border=\"1\" class=\"dataframe\">\n",
       "  <thead>\n",
       "    <tr style=\"text-align: right;\">\n",
       "      <th></th>\n",
       "      <th>Loan_ID</th>\n",
       "      <th>Gender</th>\n",
       "      <th>Married</th>\n",
       "      <th>Dependents</th>\n",
       "      <th>Education</th>\n",
       "      <th>Self_Employed</th>\n",
       "      <th>ApplicantIncome</th>\n",
       "      <th>CoapplicantIncome</th>\n",
       "      <th>LoanAmount</th>\n",
       "      <th>Loan_Amount_Term</th>\n",
       "      <th>Credit_History</th>\n",
       "      <th>Property_Area</th>\n",
       "      <th>Loan_Status</th>\n",
       "    </tr>\n",
       "  </thead>\n",
       "  <tbody>\n",
       "    <tr>\n",
       "      <th>0</th>\n",
       "      <td>LP001002</td>\n",
       "      <td>Male</td>\n",
       "      <td>No</td>\n",
       "      <td>0</td>\n",
       "      <td>Graduate</td>\n",
       "      <td>No</td>\n",
       "      <td>5849</td>\n",
       "      <td>0.0</td>\n",
       "      <td>NaN</td>\n",
       "      <td>360.0</td>\n",
       "      <td>1.0</td>\n",
       "      <td>Urban</td>\n",
       "      <td>Y</td>\n",
       "    </tr>\n",
       "    <tr>\n",
       "      <th>1</th>\n",
       "      <td>LP001003</td>\n",
       "      <td>Male</td>\n",
       "      <td>Yes</td>\n",
       "      <td>1</td>\n",
       "      <td>Graduate</td>\n",
       "      <td>No</td>\n",
       "      <td>4583</td>\n",
       "      <td>1508.0</td>\n",
       "      <td>128.0</td>\n",
       "      <td>360.0</td>\n",
       "      <td>1.0</td>\n",
       "      <td>Rural</td>\n",
       "      <td>N</td>\n",
       "    </tr>\n",
       "    <tr>\n",
       "      <th>2</th>\n",
       "      <td>LP001005</td>\n",
       "      <td>Male</td>\n",
       "      <td>Yes</td>\n",
       "      <td>0</td>\n",
       "      <td>Graduate</td>\n",
       "      <td>Yes</td>\n",
       "      <td>3000</td>\n",
       "      <td>0.0</td>\n",
       "      <td>66.0</td>\n",
       "      <td>360.0</td>\n",
       "      <td>1.0</td>\n",
       "      <td>Urban</td>\n",
       "      <td>Y</td>\n",
       "    </tr>\n",
       "    <tr>\n",
       "      <th>3</th>\n",
       "      <td>LP001006</td>\n",
       "      <td>Male</td>\n",
       "      <td>Yes</td>\n",
       "      <td>0</td>\n",
       "      <td>Not Graduate</td>\n",
       "      <td>No</td>\n",
       "      <td>2583</td>\n",
       "      <td>2358.0</td>\n",
       "      <td>120.0</td>\n",
       "      <td>360.0</td>\n",
       "      <td>1.0</td>\n",
       "      <td>Urban</td>\n",
       "      <td>Y</td>\n",
       "    </tr>\n",
       "    <tr>\n",
       "      <th>4</th>\n",
       "      <td>LP001008</td>\n",
       "      <td>Male</td>\n",
       "      <td>No</td>\n",
       "      <td>0</td>\n",
       "      <td>Graduate</td>\n",
       "      <td>No</td>\n",
       "      <td>6000</td>\n",
       "      <td>0.0</td>\n",
       "      <td>141.0</td>\n",
       "      <td>360.0</td>\n",
       "      <td>1.0</td>\n",
       "      <td>Urban</td>\n",
       "      <td>Y</td>\n",
       "    </tr>\n",
       "  </tbody>\n",
       "</table>\n",
       "</div>"
      ],
      "text/plain": [
       "    Loan_ID Gender Married Dependents     Education Self_Employed  \\\n",
       "0  LP001002   Male      No          0      Graduate            No   \n",
       "1  LP001003   Male     Yes          1      Graduate            No   \n",
       "2  LP001005   Male     Yes          0      Graduate           Yes   \n",
       "3  LP001006   Male     Yes          0  Not Graduate            No   \n",
       "4  LP001008   Male      No          0      Graduate            No   \n",
       "\n",
       "   ApplicantIncome  CoapplicantIncome  LoanAmount  Loan_Amount_Term  \\\n",
       "0             5849                0.0         NaN             360.0   \n",
       "1             4583             1508.0       128.0             360.0   \n",
       "2             3000                0.0        66.0             360.0   \n",
       "3             2583             2358.0       120.0             360.0   \n",
       "4             6000                0.0       141.0             360.0   \n",
       "\n",
       "   Credit_History Property_Area Loan_Status  \n",
       "0             1.0         Urban           Y  \n",
       "1             1.0         Rural           N  \n",
       "2             1.0         Urban           Y  \n",
       "3             1.0         Urban           Y  \n",
       "4             1.0         Urban           Y  "
      ]
     },
     "execution_count": 2,
     "metadata": {},
     "output_type": "execute_result"
    }
   ],
   "source": [
    "home_data=pd.read_csv('Train_Loan_Home.csv')\n",
    "home_data.head()"
   ]
  },
  {
   "cell_type": "markdown",
   "id": "39c970d7",
   "metadata": {},
   "source": [
    "# EDA & Preprocessing"
   ]
  },
  {
   "cell_type": "code",
   "execution_count": 3,
   "id": "039ef4e3",
   "metadata": {},
   "outputs": [
    {
     "data": {
      "text/plain": [
       "(614, 13)"
      ]
     },
     "execution_count": 3,
     "metadata": {},
     "output_type": "execute_result"
    }
   ],
   "source": [
    "home_data.shape"
   ]
  },
  {
   "cell_type": "code",
   "execution_count": 4,
   "id": "4a0cad50",
   "metadata": {},
   "outputs": [
    {
     "data": {
      "text/plain": [
       "Loan_ID               object\n",
       "Gender                object\n",
       "Married               object\n",
       "Dependents            object\n",
       "Education             object\n",
       "Self_Employed         object\n",
       "ApplicantIncome        int64\n",
       "CoapplicantIncome    float64\n",
       "LoanAmount           float64\n",
       "Loan_Amount_Term     float64\n",
       "Credit_History       float64\n",
       "Property_Area         object\n",
       "Loan_Status           object\n",
       "dtype: object"
      ]
     },
     "execution_count": 4,
     "metadata": {},
     "output_type": "execute_result"
    }
   ],
   "source": [
    "home_data.dtypes"
   ]
  },
  {
   "cell_type": "code",
   "execution_count": 5,
   "id": "3096ac25",
   "metadata": {},
   "outputs": [
    {
     "name": "stdout",
     "output_type": "stream",
     "text": [
      "<class 'pandas.core.frame.DataFrame'>\n",
      "RangeIndex: 614 entries, 0 to 613\n",
      "Data columns (total 13 columns):\n",
      " #   Column             Non-Null Count  Dtype  \n",
      "---  ------             --------------  -----  \n",
      " 0   Loan_ID            614 non-null    object \n",
      " 1   Gender             601 non-null    object \n",
      " 2   Married            611 non-null    object \n",
      " 3   Dependents         599 non-null    object \n",
      " 4   Education          614 non-null    object \n",
      " 5   Self_Employed      582 non-null    object \n",
      " 6   ApplicantIncome    614 non-null    int64  \n",
      " 7   CoapplicantIncome  614 non-null    float64\n",
      " 8   LoanAmount         592 non-null    float64\n",
      " 9   Loan_Amount_Term   600 non-null    float64\n",
      " 10  Credit_History     564 non-null    float64\n",
      " 11  Property_Area      614 non-null    object \n",
      " 12  Loan_Status        614 non-null    object \n",
      "dtypes: float64(4), int64(1), object(8)\n",
      "memory usage: 62.5+ KB\n"
     ]
    }
   ],
   "source": [
    "home_data.info()"
   ]
  },
  {
   "cell_type": "code",
   "execution_count": 6,
   "id": "918ccdbd",
   "metadata": {
    "scrolled": true
   },
   "outputs": [
    {
     "data": {
      "text/plain": [
       "Loan_ID               0\n",
       "Gender               13\n",
       "Married               3\n",
       "Dependents           15\n",
       "Education             0\n",
       "Self_Employed        32\n",
       "ApplicantIncome       0\n",
       "CoapplicantIncome     0\n",
       "LoanAmount           22\n",
       "Loan_Amount_Term     14\n",
       "Credit_History       50\n",
       "Property_Area         0\n",
       "Loan_Status           0\n",
       "dtype: int64"
      ]
     },
     "execution_count": 6,
     "metadata": {},
     "output_type": "execute_result"
    }
   ],
   "source": [
    "#Checking missing values\n",
    "home_data.isnull().sum()"
   ]
  },
  {
   "cell_type": "code",
   "execution_count": 7,
   "id": "7638c96e",
   "metadata": {},
   "outputs": [
    {
     "data": {
      "image/png": "[encoded data removed]",
      "text/plain": [
       "<Figure size 576x432 with 2 Axes>"
      ]
     },
     "metadata": {
      "needs_background": "light"
     },
     "output_type": "display_data"
    }
   ],
   "source": [
    "plt.figure(figsize=(8,6))\n",
    "sns.heatmap(home_data.isnull(),)\n",
    "plt.title('Multicollinearity');"
   ]
  },
  {
   "cell_type": "markdown",
   "id": "4bdb53cf",
   "metadata": {},
   "source": [
    "\n",
    "- In above heatmap white lines shows us presence of null values "
   ]
  },
  {
   "cell_type": "code",
   "execution_count": 8,
   "id": "51952101",
   "metadata": {
    "scrolled": true
   },
   "outputs": [
    {
     "data": {
      "text/plain": [
       "0"
      ]
     },
     "execution_count": 8,
     "metadata": {},
     "output_type": "execute_result"
    }
   ],
   "source": [
    "#checking duplicates\n",
    "home_data.duplicated().sum()"
   ]
  },
  {
   "cell_type": "code",
   "execution_count": 9,
   "id": "75bdb893",
   "metadata": {},
   "outputs": [],
   "source": [
    "#dropping unnecessory columns\n",
    "home_data.drop(labels='Loan_ID',axis=1,inplace=True)"
   ]
  },
  {
   "cell_type": "code",
   "execution_count": 10,
   "id": "c0a0bfaf",
   "metadata": {},
   "outputs": [
    {
     "data": {
      "text/plain": [
       "Index(['Gender', 'Married', 'Dependents', 'Education', 'Self_Employed',\n",
       "       'ApplicantIncome', 'CoapplicantIncome', 'LoanAmount',\n",
       "       'Loan_Amount_Term', 'Credit_History', 'Property_Area', 'Loan_Status'],\n",
       "      dtype='object')"
      ]
     },
     "execution_count": 10,
     "metadata": {},
     "output_type": "execute_result"
    }
   ],
   "source": [
    "home_data.columns"
   ]
  },
  {
   "cell_type": "code",
   "execution_count": 11,
   "id": "df74320c",
   "metadata": {},
   "outputs": [],
   "source": [
    "#Extracting Categorical and numerical features\n",
    "categorical_features=home_data.select_dtypes(include='object')\n",
    "numeric_features=home_data.select_dtypes(include=['float','int64'])"
   ]
  },
  {
   "cell_type": "code",
   "execution_count": 12,
   "id": "8b9bdefa",
   "metadata": {},
   "outputs": [
    {
     "data": {
      "text/html": [
       "<div>\n",
       "<style scoped>\n",
       "    .dataframe tbody tr th:only-of-type {\n",
       "        vertical-align: middle;\n",
       "    }\n",
       "\n",
       "    .dataframe tbody tr th {\n",
       "        vertical-align: top;\n",
       "    }\n",
       "\n",
       "    .dataframe thead th {\n",
       "        text-align: right;\n",
       "    }\n",
       "</style>\n",
       "<table border=\"1\" class=\"dataframe\">\n",
       "  <thead>\n",
       "    <tr style=\"text-align: right;\">\n",
       "      <th></th>\n",
       "      <th>Gender</th>\n",
       "      <th>Married</th>\n",
       "      <th>Dependents</th>\n",
       "      <th>Education</th>\n",
       "      <th>Self_Employed</th>\n",
       "      <th>Property_Area</th>\n",
       "      <th>Loan_Status</th>\n",
       "    </tr>\n",
       "  </thead>\n",
       "  <tbody>\n",
       "    <tr>\n",
       "      <th>0</th>\n",
       "      <td>Male</td>\n",
       "      <td>No</td>\n",
       "      <td>0</td>\n",
       "      <td>Graduate</td>\n",
       "      <td>No</td>\n",
       "      <td>Urban</td>\n",
       "      <td>Y</td>\n",
       "    </tr>\n",
       "    <tr>\n",
       "      <th>1</th>\n",
       "      <td>Male</td>\n",
       "      <td>Yes</td>\n",
       "      <td>1</td>\n",
       "      <td>Graduate</td>\n",
       "      <td>No</td>\n",
       "      <td>Rural</td>\n",
       "      <td>N</td>\n",
       "    </tr>\n",
       "    <tr>\n",
       "      <th>2</th>\n",
       "      <td>Male</td>\n",
       "      <td>Yes</td>\n",
       "      <td>0</td>\n",
       "      <td>Graduate</td>\n",
       "      <td>Yes</td>\n",
       "      <td>Urban</td>\n",
       "      <td>Y</td>\n",
       "    </tr>\n",
       "    <tr>\n",
       "      <th>3</th>\n",
       "      <td>Male</td>\n",
       "      <td>Yes</td>\n",
       "      <td>0</td>\n",
       "      <td>Not Graduate</td>\n",
       "      <td>No</td>\n",
       "      <td>Urban</td>\n",
       "      <td>Y</td>\n",
       "    </tr>\n",
       "    <tr>\n",
       "      <th>4</th>\n",
       "      <td>Male</td>\n",
       "      <td>No</td>\n",
       "      <td>0</td>\n",
       "      <td>Graduate</td>\n",
       "      <td>No</td>\n",
       "      <td>Urban</td>\n",
       "      <td>Y</td>\n",
       "    </tr>\n",
       "  </tbody>\n",
       "</table>\n",
       "</div>"
      ],
      "text/plain": [
       "  Gender Married Dependents     Education Self_Employed Property_Area  \\\n",
       "0   Male      No          0      Graduate            No         Urban   \n",
       "1   Male     Yes          1      Graduate            No         Rural   \n",
       "2   Male     Yes          0      Graduate           Yes         Urban   \n",
       "3   Male     Yes          0  Not Graduate            No         Urban   \n",
       "4   Male      No          0      Graduate            No         Urban   \n",
       "\n",
       "  Loan_Status  \n",
       "0           Y  \n",
       "1           N  \n",
       "2           Y  \n",
       "3           Y  \n",
       "4           Y  "
      ]
     },
     "execution_count": 12,
     "metadata": {},
     "output_type": "execute_result"
    }
   ],
   "source": [
    "categorical_features.head()"
   ]
  },
  {
   "cell_type": "code",
   "execution_count": 13,
   "id": "00d2f13a",
   "metadata": {
    "scrolled": false
   },
   "outputs": [
    {
     "name": "stdout",
     "output_type": "stream",
     "text": [
      "2 Unique categories are present \n",
      " ['Male' 'Female' nan]\n",
      "2 Unique categories are present \n",
      " ['No' 'Yes' nan]\n",
      "4 Unique categories are present \n",
      " ['0' '1' '2' '3+' nan]\n",
      "2 Unique categories are present \n",
      " ['Graduate' 'Not Graduate']\n",
      "2 Unique categories are present \n",
      " ['No' 'Yes' nan]\n",
      "3 Unique categories are present \n",
      " ['Urban' 'Rural' 'Semiurban']\n",
      "2 Unique categories are present \n",
      " ['Y' 'N']\n"
     ]
    }
   ],
   "source": [
    "#Unique categories in each categorical features\n",
    "for i in categorical_features:\n",
    "    print('{} Unique categories are present'.format(home_data[i].nunique()),'\\n',home_data[i].unique())"
   ]
  },
  {
   "cell_type": "code",
   "execution_count": 14,
   "id": "b7b5fde4",
   "metadata": {},
   "outputs": [
    {
     "data": {
      "text/html": [
       "<div>\n",
       "<style scoped>\n",
       "    .dataframe tbody tr th:only-of-type {\n",
       "        vertical-align: middle;\n",
       "    }\n",
       "\n",
       "    .dataframe tbody tr th {\n",
       "        vertical-align: top;\n",
       "    }\n",
       "\n",
       "    .dataframe thead th {\n",
       "        text-align: right;\n",
       "    }\n",
       "</style>\n",
       "<table border=\"1\" class=\"dataframe\">\n",
       "  <thead>\n",
       "    <tr style=\"text-align: right;\">\n",
       "      <th></th>\n",
       "      <th>ApplicantIncome</th>\n",
       "      <th>CoapplicantIncome</th>\n",
       "      <th>LoanAmount</th>\n",
       "      <th>Loan_Amount_Term</th>\n",
       "      <th>Credit_History</th>\n",
       "    </tr>\n",
       "  </thead>\n",
       "  <tbody>\n",
       "    <tr>\n",
       "      <th>0</th>\n",
       "      <td>5849</td>\n",
       "      <td>0.0</td>\n",
       "      <td>NaN</td>\n",
       "      <td>360.0</td>\n",
       "      <td>1.0</td>\n",
       "    </tr>\n",
       "    <tr>\n",
       "      <th>1</th>\n",
       "      <td>4583</td>\n",
       "      <td>1508.0</td>\n",
       "      <td>128.0</td>\n",
       "      <td>360.0</td>\n",
       "      <td>1.0</td>\n",
       "    </tr>\n",
       "    <tr>\n",
       "      <th>2</th>\n",
       "      <td>3000</td>\n",
       "      <td>0.0</td>\n",
       "      <td>66.0</td>\n",
       "      <td>360.0</td>\n",
       "      <td>1.0</td>\n",
       "    </tr>\n",
       "    <tr>\n",
       "      <th>3</th>\n",
       "      <td>2583</td>\n",
       "      <td>2358.0</td>\n",
       "      <td>120.0</td>\n",
       "      <td>360.0</td>\n",
       "      <td>1.0</td>\n",
       "    </tr>\n",
       "    <tr>\n",
       "      <th>4</th>\n",
       "      <td>6000</td>\n",
       "      <td>0.0</td>\n",
       "      <td>141.0</td>\n",
       "      <td>360.0</td>\n",
       "      <td>1.0</td>\n",
       "    </tr>\n",
       "  </tbody>\n",
       "</table>\n",
       "</div>"
      ],
      "text/plain": [
       "   ApplicantIncome  CoapplicantIncome  LoanAmount  Loan_Amount_Term  \\\n",
       "0             5849                0.0         NaN             360.0   \n",
       "1             4583             1508.0       128.0             360.0   \n",
       "2             3000                0.0        66.0             360.0   \n",
       "3             2583             2358.0       120.0             360.0   \n",
       "4             6000                0.0       141.0             360.0   \n",
       "\n",
       "   Credit_History  \n",
       "0             1.0  \n",
       "1             1.0  \n",
       "2             1.0  \n",
       "3             1.0  \n",
       "4             1.0  "
      ]
     },
     "execution_count": 14,
     "metadata": {},
     "output_type": "execute_result"
    }
   ],
   "source": [
    "numeric_features.head()"
   ]
  },
  {
   "cell_type": "code",
   "execution_count": 15,
   "id": "4afd3329",
   "metadata": {},
   "outputs": [
    {
     "data": {
      "text/plain": [
       "ApplicantIncome        int64\n",
       "CoapplicantIncome    float64\n",
       "LoanAmount           float64\n",
       "Loan_Amount_Term     float64\n",
       "Credit_History       float64\n",
       "dtype: object"
      ]
     },
     "execution_count": 15,
     "metadata": {},
     "output_type": "execute_result"
    }
   ],
   "source": [
    "#data types of numeric features\n",
    "numeric_features.dtypes"
   ]
  },
  {
   "cell_type": "code",
   "execution_count": 16,
   "id": "df23d2e0",
   "metadata": {
    "scrolled": true
   },
   "outputs": [
    {
     "data": {
      "text/plain": [
       "Index                 128\n",
       "Gender               4912\n",
       "Married              4912\n",
       "Dependents           4912\n",
       "Education            4912\n",
       "Self_Employed        4912\n",
       "ApplicantIncome      4912\n",
       "CoapplicantIncome    4912\n",
       "LoanAmount           4912\n",
       "Loan_Amount_Term     4912\n",
       "Credit_History       4912\n",
       "Property_Area        4912\n",
       "Loan_Status          4912\n",
       "dtype: int64"
      ]
     },
     "execution_count": 16,
     "metadata": {},
     "output_type": "execute_result"
    }
   ],
   "source": [
    "#memory used by columns in bytes\n",
    "home_data.memory_usage()"
   ]
  },
  {
   "cell_type": "markdown",
   "id": "68d69c42",
   "metadata": {},
   "source": [
    "## \n",
    "- we have to change datatypes from float to integer\n",
    "- for that first we will fill numerical missing values with median and categorical missing values with mode "
   ]
  },
  {
   "cell_type": "code",
   "execution_count": 17,
   "id": "acc0536a",
   "metadata": {},
   "outputs": [],
   "source": [
    "#filling numeric missing values with median\n",
    "for i in numeric_features:\n",
    "    home_data[i].fillna(home_data[i].median(),inplace=True)\n",
    "\n",
    "#filling categorical missing values with mode\n",
    "for i in categorical_features:\n",
    "    home_data[i].fillna(home_data[i].mode().iloc[0],inplace=True)"
   ]
  },
  {
   "cell_type": "code",
   "execution_count": 18,
   "id": "b7426c41",
   "metadata": {},
   "outputs": [
    {
     "data": {
      "text/plain": [
       "Gender               0\n",
       "Married              0\n",
       "Dependents           0\n",
       "Education            0\n",
       "Self_Employed        0\n",
       "ApplicantIncome      0\n",
       "CoapplicantIncome    0\n",
       "LoanAmount           0\n",
       "Loan_Amount_Term     0\n",
       "Credit_History       0\n",
       "Property_Area        0\n",
       "Loan_Status          0\n",
       "dtype: int64"
      ]
     },
     "execution_count": 18,
     "metadata": {},
     "output_type": "execute_result"
    }
   ],
   "source": [
    "home_data.isnull().sum()"
   ]
  },
  {
   "cell_type": "code",
   "execution_count": 19,
   "id": "815abab5",
   "metadata": {},
   "outputs": [],
   "source": [
    "numeric_features=home_data.select_dtypes(include=['int64','float'])"
   ]
  },
  {
   "cell_type": "code",
   "execution_count": 20,
   "id": "6c7e7f52",
   "metadata": {},
   "outputs": [
    {
     "data": {
      "text/html": [
       "<div>\n",
       "<style scoped>\n",
       "    .dataframe tbody tr th:only-of-type {\n",
       "        vertical-align: middle;\n",
       "    }\n",
       "\n",
       "    .dataframe tbody tr th {\n",
       "        vertical-align: top;\n",
       "    }\n",
       "\n",
       "    .dataframe thead th {\n",
       "        text-align: right;\n",
       "    }\n",
       "</style>\n",
       "<table border=\"1\" class=\"dataframe\">\n",
       "  <thead>\n",
       "    <tr style=\"text-align: right;\">\n",
       "      <th></th>\n",
       "      <th>ApplicantIncome</th>\n",
       "      <th>CoapplicantIncome</th>\n",
       "      <th>LoanAmount</th>\n",
       "      <th>Loan_Amount_Term</th>\n",
       "      <th>Credit_History</th>\n",
       "    </tr>\n",
       "  </thead>\n",
       "  <tbody>\n",
       "    <tr>\n",
       "      <th>0</th>\n",
       "      <td>5849</td>\n",
       "      <td>0.0</td>\n",
       "      <td>128.0</td>\n",
       "      <td>360.0</td>\n",
       "      <td>1.0</td>\n",
       "    </tr>\n",
       "    <tr>\n",
       "      <th>1</th>\n",
       "      <td>4583</td>\n",
       "      <td>1508.0</td>\n",
       "      <td>128.0</td>\n",
       "      <td>360.0</td>\n",
       "      <td>1.0</td>\n",
       "    </tr>\n",
       "    <tr>\n",
       "      <th>2</th>\n",
       "      <td>3000</td>\n",
       "      <td>0.0</td>\n",
       "      <td>66.0</td>\n",
       "      <td>360.0</td>\n",
       "      <td>1.0</td>\n",
       "    </tr>\n",
       "    <tr>\n",
       "      <th>3</th>\n",
       "      <td>2583</td>\n",
       "      <td>2358.0</td>\n",
       "      <td>120.0</td>\n",
       "      <td>360.0</td>\n",
       "      <td>1.0</td>\n",
       "    </tr>\n",
       "    <tr>\n",
       "      <th>4</th>\n",
       "      <td>6000</td>\n",
       "      <td>0.0</td>\n",
       "      <td>141.0</td>\n",
       "      <td>360.0</td>\n",
       "      <td>1.0</td>\n",
       "    </tr>\n",
       "    <tr>\n",
       "      <th>...</th>\n",
       "      <td>...</td>\n",
       "      <td>...</td>\n",
       "      <td>...</td>\n",
       "      <td>...</td>\n",
       "      <td>...</td>\n",
       "    </tr>\n",
       "    <tr>\n",
       "      <th>609</th>\n",
       "      <td>2900</td>\n",
       "      <td>0.0</td>\n",
       "      <td>71.0</td>\n",
       "      <td>360.0</td>\n",
       "      <td>1.0</td>\n",
       "    </tr>\n",
       "    <tr>\n",
       "      <th>610</th>\n",
       "      <td>4106</td>\n",
       "      <td>0.0</td>\n",
       "      <td>40.0</td>\n",
       "      <td>180.0</td>\n",
       "      <td>1.0</td>\n",
       "    </tr>\n",
       "    <tr>\n",
       "      <th>611</th>\n",
       "      <td>8072</td>\n",
       "      <td>240.0</td>\n",
       "      <td>253.0</td>\n",
       "      <td>360.0</td>\n",
       "      <td>1.0</td>\n",
       "    </tr>\n",
       "    <tr>\n",
       "      <th>612</th>\n",
       "      <td>7583</td>\n",
       "      <td>0.0</td>\n",
       "      <td>187.0</td>\n",
       "      <td>360.0</td>\n",
       "      <td>1.0</td>\n",
       "    </tr>\n",
       "    <tr>\n",
       "      <th>613</th>\n",
       "      <td>4583</td>\n",
       "      <td>0.0</td>\n",
       "      <td>133.0</td>\n",
       "      <td>360.0</td>\n",
       "      <td>0.0</td>\n",
       "    </tr>\n",
       "  </tbody>\n",
       "</table>\n",
       "<p>614 rows × 5 columns</p>\n",
       "</div>"
      ],
      "text/plain": [
       "     ApplicantIncome  CoapplicantIncome  LoanAmount  Loan_Amount_Term  \\\n",
       "0               5849                0.0       128.0             360.0   \n",
       "1               4583             1508.0       128.0             360.0   \n",
       "2               3000                0.0        66.0             360.0   \n",
       "3               2583             2358.0       120.0             360.0   \n",
       "4               6000                0.0       141.0             360.0   \n",
       "..               ...                ...         ...               ...   \n",
       "609             2900                0.0        71.0             360.0   \n",
       "610             4106                0.0        40.0             180.0   \n",
       "611             8072              240.0       253.0             360.0   \n",
       "612             7583                0.0       187.0             360.0   \n",
       "613             4583                0.0       133.0             360.0   \n",
       "\n",
       "     Credit_History  \n",
       "0               1.0  \n",
       "1               1.0  \n",
       "2               1.0  \n",
       "3               1.0  \n",
       "4               1.0  \n",
       "..              ...  \n",
       "609             1.0  \n",
       "610             1.0  \n",
       "611             1.0  \n",
       "612             1.0  \n",
       "613             0.0  \n",
       "\n",
       "[614 rows x 5 columns]"
      ]
     },
     "execution_count": 20,
     "metadata": {},
     "output_type": "execute_result"
    }
   ],
   "source": [
    "numeric_features"
   ]
  },
  {
   "cell_type": "code",
   "execution_count": 21,
   "id": "6946db37",
   "metadata": {},
   "outputs": [],
   "source": [
    "#changing daya types from float to int to decrease memory usage\n",
    "for i in numeric_features:\n",
    "    home_data[i]= home_data[i].astype('int')"
   ]
  },
  {
   "cell_type": "code",
   "execution_count": 22,
   "id": "39a37127",
   "metadata": {},
   "outputs": [
    {
     "data": {
      "text/plain": [
       "Gender               object\n",
       "Married              object\n",
       "Dependents           object\n",
       "Education            object\n",
       "Self_Employed        object\n",
       "ApplicantIncome       int32\n",
       "CoapplicantIncome     int32\n",
       "LoanAmount            int32\n",
       "Loan_Amount_Term      int32\n",
       "Credit_History        int32\n",
       "Property_Area        object\n",
       "Loan_Status          object\n",
       "dtype: object"
      ]
     },
     "execution_count": 22,
     "metadata": {},
     "output_type": "execute_result"
    }
   ],
   "source": [
    "home_data.dtypes"
   ]
  },
  {
   "cell_type": "markdown",
   "id": "021ad594",
   "metadata": {},
   "source": [
    "# \n",
    "- we have converted necessory columns from float to integer"
   ]
  },
  {
   "cell_type": "code",
   "execution_count": 23,
   "id": "ec9f3cec",
   "metadata": {},
   "outputs": [
    {
     "data": {
      "text/plain": [
       "Index                 128\n",
       "Gender               4912\n",
       "Married              4912\n",
       "Dependents           4912\n",
       "Education            4912\n",
       "Self_Employed        4912\n",
       "ApplicantIncome      2456\n",
       "CoapplicantIncome    2456\n",
       "LoanAmount           2456\n",
       "Loan_Amount_Term     2456\n",
       "Credit_History       2456\n",
       "Property_Area        4912\n",
       "Loan_Status          4912\n",
       "dtype: int64"
      ]
     },
     "execution_count": 23,
     "metadata": {},
     "output_type": "execute_result"
    }
   ],
   "source": [
    "home_data.memory_usage()"
   ]
  },
  {
   "cell_type": "code",
   "execution_count": 24,
   "id": "0201f1d0",
   "metadata": {},
   "outputs": [
    {
     "data": {
      "text/html": [
       "<div>\n",
       "<style scoped>\n",
       "    .dataframe tbody tr th:only-of-type {\n",
       "        vertical-align: middle;\n",
       "    }\n",
       "\n",
       "    .dataframe tbody tr th {\n",
       "        vertical-align: top;\n",
       "    }\n",
       "\n",
       "    .dataframe thead th {\n",
       "        text-align: right;\n",
       "    }\n",
       "</style>\n",
       "<table border=\"1\" class=\"dataframe\">\n",
       "  <thead>\n",
       "    <tr style=\"text-align: right;\">\n",
       "      <th></th>\n",
       "      <th>Gender</th>\n",
       "      <th>Married</th>\n",
       "      <th>Dependents</th>\n",
       "      <th>Education</th>\n",
       "      <th>Self_Employed</th>\n",
       "      <th>ApplicantIncome</th>\n",
       "      <th>CoapplicantIncome</th>\n",
       "      <th>LoanAmount</th>\n",
       "      <th>Loan_Amount_Term</th>\n",
       "      <th>Credit_History</th>\n",
       "      <th>Property_Area</th>\n",
       "      <th>Loan_Status</th>\n",
       "    </tr>\n",
       "  </thead>\n",
       "  <tbody>\n",
       "    <tr>\n",
       "      <th>0</th>\n",
       "      <td>Male</td>\n",
       "      <td>No</td>\n",
       "      <td>0</td>\n",
       "      <td>Graduate</td>\n",
       "      <td>No</td>\n",
       "      <td>5849</td>\n",
       "      <td>0</td>\n",
       "      <td>128</td>\n",
       "      <td>360</td>\n",
       "      <td>1</td>\n",
       "      <td>Urban</td>\n",
       "      <td>Y</td>\n",
       "    </tr>\n",
       "    <tr>\n",
       "      <th>1</th>\n",
       "      <td>Male</td>\n",
       "      <td>Yes</td>\n",
       "      <td>1</td>\n",
       "      <td>Graduate</td>\n",
       "      <td>No</td>\n",
       "      <td>4583</td>\n",
       "      <td>1508</td>\n",
       "      <td>128</td>\n",
       "      <td>360</td>\n",
       "      <td>1</td>\n",
       "      <td>Rural</td>\n",
       "      <td>N</td>\n",
       "    </tr>\n",
       "    <tr>\n",
       "      <th>2</th>\n",
       "      <td>Male</td>\n",
       "      <td>Yes</td>\n",
       "      <td>0</td>\n",
       "      <td>Graduate</td>\n",
       "      <td>Yes</td>\n",
       "      <td>3000</td>\n",
       "      <td>0</td>\n",
       "      <td>66</td>\n",
       "      <td>360</td>\n",
       "      <td>1</td>\n",
       "      <td>Urban</td>\n",
       "      <td>Y</td>\n",
       "    </tr>\n",
       "    <tr>\n",
       "      <th>3</th>\n",
       "      <td>Male</td>\n",
       "      <td>Yes</td>\n",
       "      <td>0</td>\n",
       "      <td>Not Graduate</td>\n",
       "      <td>No</td>\n",
       "      <td>2583</td>\n",
       "      <td>2358</td>\n",
       "      <td>120</td>\n",
       "      <td>360</td>\n",
       "      <td>1</td>\n",
       "      <td>Urban</td>\n",
       "      <td>Y</td>\n",
       "    </tr>\n",
       "    <tr>\n",
       "      <th>4</th>\n",
       "      <td>Male</td>\n",
       "      <td>No</td>\n",
       "      <td>0</td>\n",
       "      <td>Graduate</td>\n",
       "      <td>No</td>\n",
       "      <td>6000</td>\n",
       "      <td>0</td>\n",
       "      <td>141</td>\n",
       "      <td>360</td>\n",
       "      <td>1</td>\n",
       "      <td>Urban</td>\n",
       "      <td>Y</td>\n",
       "    </tr>\n",
       "  </tbody>\n",
       "</table>\n",
       "</div>"
      ],
      "text/plain": [
       "  Gender Married Dependents     Education Self_Employed  ApplicantIncome  \\\n",
       "0   Male      No          0      Graduate            No             5849   \n",
       "1   Male     Yes          1      Graduate            No             4583   \n",
       "2   Male     Yes          0      Graduate           Yes             3000   \n",
       "3   Male     Yes          0  Not Graduate            No             2583   \n",
       "4   Male      No          0      Graduate            No             6000   \n",
       "\n",
       "   CoapplicantIncome  LoanAmount  Loan_Amount_Term  Credit_History  \\\n",
       "0                  0         128               360               1   \n",
       "1               1508         128               360               1   \n",
       "2                  0          66               360               1   \n",
       "3               2358         120               360               1   \n",
       "4                  0         141               360               1   \n",
       "\n",
       "  Property_Area Loan_Status  \n",
       "0         Urban           Y  \n",
       "1         Rural           N  \n",
       "2         Urban           Y  \n",
       "3         Urban           Y  \n",
       "4         Urban           Y  "
      ]
     },
     "execution_count": 24,
     "metadata": {},
     "output_type": "execute_result"
    }
   ],
   "source": [
    "# Data after filling missing values and changing data types\n",
    "home_data.head()"
   ]
  },
  {
   "cell_type": "code",
   "execution_count": 25,
   "id": "6427f519",
   "metadata": {},
   "outputs": [],
   "source": [
    "# replacing object to integer in column 'Dependents'\n",
    "home_data['Dependents']=home_data['Dependents'].replace('3+',3)\n",
    "home_data['Dependents']=home_data['Dependents'].astype('int')"
   ]
  },
  {
   "cell_type": "code",
   "execution_count": 26,
   "id": "d579aafd",
   "metadata": {},
   "outputs": [
    {
     "data": {
      "text/plain": [
       "Gender               object\n",
       "Married              object\n",
       "Dependents            int32\n",
       "Education            object\n",
       "Self_Employed        object\n",
       "ApplicantIncome       int32\n",
       "CoapplicantIncome     int32\n",
       "LoanAmount            int32\n",
       "Loan_Amount_Term      int32\n",
       "Credit_History        int32\n",
       "Property_Area        object\n",
       "Loan_Status          object\n",
       "dtype: object"
      ]
     },
     "execution_count": 26,
     "metadata": {},
     "output_type": "execute_result"
    }
   ],
   "source": [
    "home_data.dtypes"
   ]
  },
  {
   "cell_type": "code",
   "execution_count": 27,
   "id": "d749de30",
   "metadata": {},
   "outputs": [
    {
     "data": {
      "text/html": [
       "<div>\n",
       "<style scoped>\n",
       "    .dataframe tbody tr th:only-of-type {\n",
       "        vertical-align: middle;\n",
       "    }\n",
       "\n",
       "    .dataframe tbody tr th {\n",
       "        vertical-align: top;\n",
       "    }\n",
       "\n",
       "    .dataframe thead th {\n",
       "        text-align: right;\n",
       "    }\n",
       "</style>\n",
       "<table border=\"1\" class=\"dataframe\">\n",
       "  <thead>\n",
       "    <tr style=\"text-align: right;\">\n",
       "      <th></th>\n",
       "      <th>Dependents</th>\n",
       "      <th>ApplicantIncome</th>\n",
       "      <th>CoapplicantIncome</th>\n",
       "      <th>LoanAmount</th>\n",
       "      <th>Loan_Amount_Term</th>\n",
       "      <th>Credit_History</th>\n",
       "    </tr>\n",
       "  </thead>\n",
       "  <tbody>\n",
       "    <tr>\n",
       "      <th>count</th>\n",
       "      <td>614.000000</td>\n",
       "      <td>614.000000</td>\n",
       "      <td>614.00000</td>\n",
       "      <td>614.000000</td>\n",
       "      <td>614.000000</td>\n",
       "      <td>614.000000</td>\n",
       "    </tr>\n",
       "    <tr>\n",
       "      <th>mean</th>\n",
       "      <td>0.744300</td>\n",
       "      <td>5403.459283</td>\n",
       "      <td>1621.24430</td>\n",
       "      <td>145.752443</td>\n",
       "      <td>342.410423</td>\n",
       "      <td>0.855049</td>\n",
       "    </tr>\n",
       "    <tr>\n",
       "      <th>std</th>\n",
       "      <td>1.009623</td>\n",
       "      <td>6109.041673</td>\n",
       "      <td>2926.24876</td>\n",
       "      <td>84.107233</td>\n",
       "      <td>64.428629</td>\n",
       "      <td>0.352339</td>\n",
       "    </tr>\n",
       "    <tr>\n",
       "      <th>min</th>\n",
       "      <td>0.000000</td>\n",
       "      <td>150.000000</td>\n",
       "      <td>0.00000</td>\n",
       "      <td>9.000000</td>\n",
       "      <td>12.000000</td>\n",
       "      <td>0.000000</td>\n",
       "    </tr>\n",
       "    <tr>\n",
       "      <th>25%</th>\n",
       "      <td>0.000000</td>\n",
       "      <td>2877.500000</td>\n",
       "      <td>0.00000</td>\n",
       "      <td>100.250000</td>\n",
       "      <td>360.000000</td>\n",
       "      <td>1.000000</td>\n",
       "    </tr>\n",
       "    <tr>\n",
       "      <th>50%</th>\n",
       "      <td>0.000000</td>\n",
       "      <td>3812.500000</td>\n",
       "      <td>1188.50000</td>\n",
       "      <td>128.000000</td>\n",
       "      <td>360.000000</td>\n",
       "      <td>1.000000</td>\n",
       "    </tr>\n",
       "    <tr>\n",
       "      <th>75%</th>\n",
       "      <td>1.000000</td>\n",
       "      <td>5795.000000</td>\n",
       "      <td>2297.25000</td>\n",
       "      <td>164.750000</td>\n",
       "      <td>360.000000</td>\n",
       "      <td>1.000000</td>\n",
       "    </tr>\n",
       "    <tr>\n",
       "      <th>max</th>\n",
       "      <td>3.000000</td>\n",
       "      <td>81000.000000</td>\n",
       "      <td>41667.00000</td>\n",
       "      <td>700.000000</td>\n",
       "      <td>480.000000</td>\n",
       "      <td>1.000000</td>\n",
       "    </tr>\n",
       "  </tbody>\n",
       "</table>\n",
       "</div>"
      ],
      "text/plain": [
       "       Dependents  ApplicantIncome  CoapplicantIncome  LoanAmount  \\\n",
       "count  614.000000       614.000000          614.00000  614.000000   \n",
       "mean     0.744300      5403.459283         1621.24430  145.752443   \n",
       "std      1.009623      6109.041673         2926.24876   84.107233   \n",
       "min      0.000000       150.000000            0.00000    9.000000   \n",
       "25%      0.000000      2877.500000            0.00000  100.250000   \n",
       "50%      0.000000      3812.500000         1188.50000  128.000000   \n",
       "75%      1.000000      5795.000000         2297.25000  164.750000   \n",
       "max      3.000000     81000.000000        41667.00000  700.000000   \n",
       "\n",
       "       Loan_Amount_Term  Credit_History  \n",
       "count        614.000000      614.000000  \n",
       "mean         342.410423        0.855049  \n",
       "std           64.428629        0.352339  \n",
       "min           12.000000        0.000000  \n",
       "25%          360.000000        1.000000  \n",
       "50%          360.000000        1.000000  \n",
       "75%          360.000000        1.000000  \n",
       "max          480.000000        1.000000  "
      ]
     },
     "execution_count": 27,
     "metadata": {},
     "output_type": "execute_result"
    }
   ],
   "source": [
    "# Descriptive statistics\n",
    "des_stat=home_data.describe()\n",
    "des_stat"
   ]
  },
  {
   "cell_type": "code",
   "execution_count": 28,
   "id": "8cba1b66",
   "metadata": {},
   "outputs": [
    {
     "data": {
      "text/html": [
       "<div>\n",
       "<style scoped>\n",
       "    .dataframe tbody tr th:only-of-type {\n",
       "        vertical-align: middle;\n",
       "    }\n",
       "\n",
       "    .dataframe tbody tr th {\n",
       "        vertical-align: top;\n",
       "    }\n",
       "\n",
       "    .dataframe thead th {\n",
       "        text-align: right;\n",
       "    }\n",
       "</style>\n",
       "<table border=\"1\" class=\"dataframe\">\n",
       "  <thead>\n",
       "    <tr style=\"text-align: right;\">\n",
       "      <th></th>\n",
       "      <th>Dependents</th>\n",
       "      <th>ApplicantIncome</th>\n",
       "      <th>CoapplicantIncome</th>\n",
       "      <th>LoanAmount</th>\n",
       "      <th>Loan_Amount_Term</th>\n",
       "      <th>Credit_History</th>\n",
       "    </tr>\n",
       "  </thead>\n",
       "  <tbody>\n",
       "    <tr>\n",
       "      <th>Dependents</th>\n",
       "      <td>1.000000</td>\n",
       "      <td>0.118202</td>\n",
       "      <td>0.030429</td>\n",
       "      <td>0.163103</td>\n",
       "      <td>-0.103864</td>\n",
       "      <td>-0.040160</td>\n",
       "    </tr>\n",
       "    <tr>\n",
       "      <th>ApplicantIncome</th>\n",
       "      <td>0.118202</td>\n",
       "      <td>1.000000</td>\n",
       "      <td>-0.116604</td>\n",
       "      <td>0.565181</td>\n",
       "      <td>-0.046531</td>\n",
       "      <td>-0.018615</td>\n",
       "    </tr>\n",
       "    <tr>\n",
       "      <th>CoapplicantIncome</th>\n",
       "      <td>0.030429</td>\n",
       "      <td>-0.116604</td>\n",
       "      <td>1.000000</td>\n",
       "      <td>0.189218</td>\n",
       "      <td>-0.059382</td>\n",
       "      <td>0.011134</td>\n",
       "    </tr>\n",
       "    <tr>\n",
       "      <th>LoanAmount</th>\n",
       "      <td>0.163103</td>\n",
       "      <td>0.565181</td>\n",
       "      <td>0.189218</td>\n",
       "      <td>1.000000</td>\n",
       "      <td>0.036960</td>\n",
       "      <td>-0.000607</td>\n",
       "    </tr>\n",
       "    <tr>\n",
       "      <th>Loan_Amount_Term</th>\n",
       "      <td>-0.103864</td>\n",
       "      <td>-0.046531</td>\n",
       "      <td>-0.059382</td>\n",
       "      <td>0.036960</td>\n",
       "      <td>1.000000</td>\n",
       "      <td>-0.004705</td>\n",
       "    </tr>\n",
       "    <tr>\n",
       "      <th>Credit_History</th>\n",
       "      <td>-0.040160</td>\n",
       "      <td>-0.018615</td>\n",
       "      <td>0.011134</td>\n",
       "      <td>-0.000607</td>\n",
       "      <td>-0.004705</td>\n",
       "      <td>1.000000</td>\n",
       "    </tr>\n",
       "  </tbody>\n",
       "</table>\n",
       "</div>"
      ],
      "text/plain": [
       "                   Dependents  ApplicantIncome  CoapplicantIncome  LoanAmount  \\\n",
       "Dependents           1.000000         0.118202           0.030429    0.163103   \n",
       "ApplicantIncome      0.118202         1.000000          -0.116604    0.565181   \n",
       "CoapplicantIncome    0.030429        -0.116604           1.000000    0.189218   \n",
       "LoanAmount           0.163103         0.565181           0.189218    1.000000   \n",
       "Loan_Amount_Term    -0.103864        -0.046531          -0.059382    0.036960   \n",
       "Credit_History      -0.040160        -0.018615           0.011134   -0.000607   \n",
       "\n",
       "                   Loan_Amount_Term  Credit_History  \n",
       "Dependents                -0.103864       -0.040160  \n",
       "ApplicantIncome           -0.046531       -0.018615  \n",
       "CoapplicantIncome         -0.059382        0.011134  \n",
       "LoanAmount                 0.036960       -0.000607  \n",
       "Loan_Amount_Term           1.000000       -0.004705  \n",
       "Credit_History            -0.004705        1.000000  "
      ]
     },
     "execution_count": 28,
     "metadata": {},
     "output_type": "execute_result"
    }
   ],
   "source": [
    "#Checking relationship between input features\n",
    "corr = home_data.corr()\n",
    "corr"
   ]
  },
  {
   "cell_type": "markdown",
   "id": "f7a8bbae",
   "metadata": {},
   "source": [
    "# Data Visualization"
   ]
  },
  {
   "cell_type": "code",
   "execution_count": 29,
   "id": "5d927965",
   "metadata": {},
   "outputs": [
    {
     "data": {
      "image/png": "[encoded data removed]",
      "text/plain": [
       "<Figure size 576x432 with 2 Axes>"
      ]
     },
     "metadata": {
      "needs_background": "light"
     },
     "output_type": "display_data"
    }
   ],
   "source": [
    "plt.figure(figsize=(8,6))\n",
    "sns.heatmap(corr,annot=True)\n",
    "plt.title('Multicollinearity');"
   ]
  },
  {
   "cell_type": "markdown",
   "id": "3a3eb8e2",
   "metadata": {},
   "source": [
    "#### \n",
    "- There is no multicollinearity between input features"
   ]
  },
  {
   "cell_type": "code",
   "execution_count": 30,
   "id": "09789fa4",
   "metadata": {
    "scrolled": true
   },
   "outputs": [
    {
     "data": {
      "text/html": [
       "<div>\n",
       "<style scoped>\n",
       "    .dataframe tbody tr th:only-of-type {\n",
       "        vertical-align: middle;\n",
       "    }\n",
       "\n",
       "    .dataframe tbody tr th {\n",
       "        vertical-align: top;\n",
       "    }\n",
       "\n",
       "    .dataframe thead th {\n",
       "        text-align: right;\n",
       "    }\n",
       "</style>\n",
       "<table border=\"1\" class=\"dataframe\">\n",
       "  <thead>\n",
       "    <tr style=\"text-align: right;\">\n",
       "      <th></th>\n",
       "      <th>Dependents</th>\n",
       "      <th>ApplicantIncome</th>\n",
       "      <th>CoapplicantIncome</th>\n",
       "      <th>LoanAmount</th>\n",
       "      <th>Loan_Amount_Term</th>\n",
       "      <th>Credit_History</th>\n",
       "    </tr>\n",
       "  </thead>\n",
       "  <tbody>\n",
       "    <tr>\n",
       "      <th>0</th>\n",
       "      <td>0</td>\n",
       "      <td>5849</td>\n",
       "      <td>0</td>\n",
       "      <td>128</td>\n",
       "      <td>360</td>\n",
       "      <td>1</td>\n",
       "    </tr>\n",
       "    <tr>\n",
       "      <th>1</th>\n",
       "      <td>1</td>\n",
       "      <td>4583</td>\n",
       "      <td>1508</td>\n",
       "      <td>128</td>\n",
       "      <td>360</td>\n",
       "      <td>1</td>\n",
       "    </tr>\n",
       "    <tr>\n",
       "      <th>2</th>\n",
       "      <td>0</td>\n",
       "      <td>3000</td>\n",
       "      <td>0</td>\n",
       "      <td>66</td>\n",
       "      <td>360</td>\n",
       "      <td>1</td>\n",
       "    </tr>\n",
       "    <tr>\n",
       "      <th>3</th>\n",
       "      <td>0</td>\n",
       "      <td>2583</td>\n",
       "      <td>2358</td>\n",
       "      <td>120</td>\n",
       "      <td>360</td>\n",
       "      <td>1</td>\n",
       "    </tr>\n",
       "    <tr>\n",
       "      <th>4</th>\n",
       "      <td>0</td>\n",
       "      <td>6000</td>\n",
       "      <td>0</td>\n",
       "      <td>141</td>\n",
       "      <td>360</td>\n",
       "      <td>1</td>\n",
       "    </tr>\n",
       "  </tbody>\n",
       "</table>\n",
       "</div>"
      ],
      "text/plain": [
       "   Dependents  ApplicantIncome  CoapplicantIncome  LoanAmount  \\\n",
       "0           0             5849                  0         128   \n",
       "1           1             4583               1508         128   \n",
       "2           0             3000                  0          66   \n",
       "3           0             2583               2358         120   \n",
       "4           0             6000                  0         141   \n",
       "\n",
       "   Loan_Amount_Term  Credit_History  \n",
       "0               360               1  \n",
       "1               360               1  \n",
       "2               360               1  \n",
       "3               360               1  \n",
       "4               360               1  "
      ]
     },
     "execution_count": 30,
     "metadata": {},
     "output_type": "execute_result"
    }
   ],
   "source": [
    "numeric_features=home_data.select_dtypes(include='int')\n",
    "numeric_features.head()"
   ]
  },
  {
   "cell_type": "markdown",
   "id": "9666aa52",
   "metadata": {},
   "source": [
    "### Univariate / Bivariate / Multivariate Analysis"
   ]
  },
  {
   "cell_type": "code",
   "execution_count": 31,
   "id": "ef420b59",
   "metadata": {},
   "outputs": [],
   "source": [
    "def dist_plot(column):\n",
    "    plt.figure(figsize=(5,5))\n",
    "    sns.distplot(column,hist=False,color='Green')\n",
    "    plt.title('Dist_Plot')\n",
    "    \n",
    "    \n",
    "    \n",
    "    \n",
    "def normality(column):\n",
    "    skewness=column.skew()\n",
    "    kurtosis=column.kurtosis()\n",
    "    if skewness < -1 :\n",
    "        print('For column {} the Value of skewness is {};so the distribution is negatively skewed.'.format(column.name,skewness))\n",
    "    elif skewness > 1:\n",
    "        print('For column {} the Value of skewness is {};so the distribution is positively skewed.'.format(column.name,skewness))\n",
    "    else:\n",
    "        print('For column {} the value of skewness is {};so the distribution is Symmetric'.format(column.name,skewness))\n",
    "    if kurtosis < -3 :\n",
    "        print('For column {} ,the Value of kurtosis is {};so distribution is Platyokurtic.'.format(column.name,kurtosis))\n",
    "    elif kurtosis > 3:\n",
    "        print('For column {} the Value of kurtosis is {};so distribution is Leptokurtic.'.format(column.name,kurtosis))\n",
    "    else:\n",
    "        print('for column {} the value of kurtosis is {}; so distribution is Mesokurtic(Gaussian Ditribution)'.format(column.name,kurtosis))"
   ]
  },
  {
   "cell_type": "code",
   "execution_count": 32,
   "id": "d2305470",
   "metadata": {
    "scrolled": false
   },
   "outputs": [
    {
     "name": "stdout",
     "output_type": "stream",
     "text": [
      "For column ApplicantIncome the Value of skewness is 6.539513113994625;so the distribution is positively skewed.\n",
      "For column ApplicantIncome the Value of kurtosis is 60.54067593369113;so distribution is Leptokurtic.\n"
     ]
    },
    {
     "data": {
      "image/png": "[encoded data removed]",
      "text/plain": [
       "<Figure size 360x360 with 1 Axes>"
      ]
     },
     "metadata": {
      "needs_background": "light"
     },
     "output_type": "display_data"
    }
   ],
   "source": [
    "dist_plot(home_data['ApplicantIncome'])\n",
    "normality(home_data['ApplicantIncome'])"
   ]
  },
  {
   "cell_type": "code",
   "execution_count": 33,
   "id": "bcb8b900",
   "metadata": {},
   "outputs": [
    {
     "name": "stdout",
     "output_type": "stream",
     "text": [
      "For column CoapplicantIncome the Value of skewness is 7.491529631159513;so the distribution is positively skewed.\n",
      "For column CoapplicantIncome the Value of kurtosis is 84.95635270560676;so distribution is Leptokurtic.\n"
     ]
    },
    {
     "data": {
      "image/png": "[encoded data removed]",
      "text/plain": [
       "<Figure size 360x360 with 1 Axes>"
      ]
     },
     "metadata": {
      "needs_background": "light"
     },
     "output_type": "display_data"
    }
   ],
   "source": [
    "dist_plot(home_data['CoapplicantIncome'])\n",
    "normality(home_data['CoapplicantIncome'])"
   ]
  },
  {
   "cell_type": "code",
   "execution_count": 34,
   "id": "478f4ea2",
   "metadata": {},
   "outputs": [
    {
     "name": "stdout",
     "output_type": "stream",
     "text": [
      "For column LoanAmount the Value of skewness is 2.743052748820892;so the distribution is positively skewed.\n",
      "For column LoanAmount the Value of kurtosis is 10.936694906900337;so distribution is Leptokurtic.\n"
     ]
    },
    {
     "data": {
      "image/png": "[encoded data removed]",
      "text/plain": [
       "<Figure size 360x360 with 1 Axes>"
      ]
     },
     "metadata": {
      "needs_background": "light"
     },
     "output_type": "display_data"
    }
   ],
   "source": [
    "dist_plot(home_data['LoanAmount'])\n",
    "normality(home_data['LoanAmount'])"
   ]
  },
  {
   "cell_type": "code",
   "execution_count": 35,
   "id": "9eed0cec",
   "metadata": {},
   "outputs": [
    {
     "name": "stdout",
     "output_type": "stream",
     "text": [
      "For column Loan_Amount_Term the Value of skewness is -2.4021122563890396;so the distribution is negatively skewed.\n",
      "For column Loan_Amount_Term the Value of kurtosis is 6.924993328965206;so distribution is Leptokurtic.\n"
     ]
    },
    {
     "data": {
      "image/png": "[encoded data removed]",
      "text/plain": [
       "<Figure size 360x360 with 1 Axes>"
      ]
     },
     "metadata": {
      "needs_background": "light"
     },
     "output_type": "display_data"
    }
   ],
   "source": [
    "dist_plot(home_data['Loan_Amount_Term'])\n",
    "normality(home_data['Loan_Amount_Term'])"
   ]
  },
  {
   "cell_type": "markdown",
   "id": "420edc5d",
   "metadata": {},
   "source": [
    "## \n",
    "- So here we can transform our data either by using log transformation or StandardSclar to get it into symmetric form"
   ]
  },
  {
   "cell_type": "markdown",
   "id": "8c7b3db2",
   "metadata": {},
   "source": [
    "#### Count plots "
   ]
  },
  {
   "cell_type": "code",
   "execution_count": 36,
   "id": "c7ee43a7",
   "metadata": {},
   "outputs": [
    {
     "name": "stdout",
     "output_type": "stream",
     "text": [
      "0    360\n",
      "1    102\n",
      "2    101\n",
      "3     51\n",
      "Name: Dependents, dtype: int64\n"
     ]
    },
    {
     "data": {
      "image/png": "[encoded data removed]",
      "text/plain": [
       "<Figure size 432x288 with 1 Axes>"
      ]
     },
     "metadata": {
      "needs_background": "light"
     },
     "output_type": "display_data"
    }
   ],
   "source": [
    "print(home_data['Dependents'].value_counts())\n",
    "sns.countplot(data=home_data,x='Dependents')\n",
    "plt.title('Count Plot');"
   ]
  },
  {
   "cell_type": "code",
   "execution_count": 37,
   "id": "76be3dd8",
   "metadata": {},
   "outputs": [
    {
     "name": "stdout",
     "output_type": "stream",
     "text": [
      "1    525\n",
      "0     89\n",
      "Name: Credit_History, dtype: int64\n"
     ]
    },
    {
     "data": {
      "image/png": "[encoded data removed]",
      "text/plain": [
       "<Figure size 432x288 with 1 Axes>"
      ]
     },
     "metadata": {
      "needs_background": "light"
     },
     "output_type": "display_data"
    }
   ],
   "source": [
    "print(home_data['Credit_History'].value_counts())\n",
    "sns.countplot(data=home_data,x='Credit_History')\n",
    "plt.title('Count Plot');"
   ]
  },
  {
   "cell_type": "code",
   "execution_count": 38,
   "id": "9c7e0560",
   "metadata": {},
   "outputs": [
    {
     "data": {
      "text/html": [
       "<div>\n",
       "<style scoped>\n",
       "    .dataframe tbody tr th:only-of-type {\n",
       "        vertical-align: middle;\n",
       "    }\n",
       "\n",
       "    .dataframe tbody tr th {\n",
       "        vertical-align: top;\n",
       "    }\n",
       "\n",
       "    .dataframe thead th {\n",
       "        text-align: right;\n",
       "    }\n",
       "</style>\n",
       "<table border=\"1\" class=\"dataframe\">\n",
       "  <thead>\n",
       "    <tr style=\"text-align: right;\">\n",
       "      <th></th>\n",
       "      <th>Gender</th>\n",
       "      <th>Married</th>\n",
       "      <th>Education</th>\n",
       "      <th>Self_Employed</th>\n",
       "      <th>Property_Area</th>\n",
       "      <th>Loan_Status</th>\n",
       "    </tr>\n",
       "  </thead>\n",
       "  <tbody>\n",
       "    <tr>\n",
       "      <th>0</th>\n",
       "      <td>Male</td>\n",
       "      <td>No</td>\n",
       "      <td>Graduate</td>\n",
       "      <td>No</td>\n",
       "      <td>Urban</td>\n",
       "      <td>Y</td>\n",
       "    </tr>\n",
       "    <tr>\n",
       "      <th>1</th>\n",
       "      <td>Male</td>\n",
       "      <td>Yes</td>\n",
       "      <td>Graduate</td>\n",
       "      <td>No</td>\n",
       "      <td>Rural</td>\n",
       "      <td>N</td>\n",
       "    </tr>\n",
       "    <tr>\n",
       "      <th>2</th>\n",
       "      <td>Male</td>\n",
       "      <td>Yes</td>\n",
       "      <td>Graduate</td>\n",
       "      <td>Yes</td>\n",
       "      <td>Urban</td>\n",
       "      <td>Y</td>\n",
       "    </tr>\n",
       "    <tr>\n",
       "      <th>3</th>\n",
       "      <td>Male</td>\n",
       "      <td>Yes</td>\n",
       "      <td>Not Graduate</td>\n",
       "      <td>No</td>\n",
       "      <td>Urban</td>\n",
       "      <td>Y</td>\n",
       "    </tr>\n",
       "    <tr>\n",
       "      <th>4</th>\n",
       "      <td>Male</td>\n",
       "      <td>No</td>\n",
       "      <td>Graduate</td>\n",
       "      <td>No</td>\n",
       "      <td>Urban</td>\n",
       "      <td>Y</td>\n",
       "    </tr>\n",
       "  </tbody>\n",
       "</table>\n",
       "</div>"
      ],
      "text/plain": [
       "  Gender Married     Education Self_Employed Property_Area Loan_Status\n",
       "0   Male      No      Graduate            No         Urban           Y\n",
       "1   Male     Yes      Graduate            No         Rural           N\n",
       "2   Male     Yes      Graduate           Yes         Urban           Y\n",
       "3   Male     Yes  Not Graduate            No         Urban           Y\n",
       "4   Male      No      Graduate            No         Urban           Y"
      ]
     },
     "execution_count": 38,
     "metadata": {},
     "output_type": "execute_result"
    }
   ],
   "source": [
    "categorical_features=home_data.select_dtypes(include='object')\n",
    "categorical_features.head()"
   ]
  },
  {
   "cell_type": "code",
   "execution_count": 39,
   "id": "1957150b",
   "metadata": {
    "scrolled": true
   },
   "outputs": [],
   "source": [
    "def count_plot(data,column):\n",
    "    sns.countplot(data=data,x=column)\n",
    "    plt.title('Count Plot of {}'.format(column))\n",
    "    print(data[column].value_counts())"
   ]
  },
  {
   "cell_type": "code",
   "execution_count": 40,
   "id": "4383af74",
   "metadata": {},
   "outputs": [
    {
     "name": "stdout",
     "output_type": "stream",
     "text": [
      "Male      502\n",
      "Female    112\n",
      "Name: Gender, dtype: int64\n"
     ]
    },
    {
     "data": {
      "image/png": "[encoded data removed]",
      "text/plain": [
       "<Figure size 432x288 with 1 Axes>"
      ]
     },
     "metadata": {
      "needs_background": "light"
     },
     "output_type": "display_data"
    }
   ],
   "source": [
    "count_plot(home_data,'Gender')"
   ]
  },
  {
   "cell_type": "code",
   "execution_count": 41,
   "id": "e0adf9c1",
   "metadata": {
    "scrolled": true
   },
   "outputs": [
    {
     "name": "stdout",
     "output_type": "stream",
     "text": [
      "Yes    401\n",
      "No     213\n",
      "Name: Married, dtype: int64\n"
     ]
    },
    {
     "data": {
      "image/png": "[encoded data removed]",
      "text/plain": [
       "<Figure size 432x288 with 1 Axes>"
      ]
     },
     "metadata": {
      "needs_background": "light"
     },
     "output_type": "display_data"
    }
   ],
   "source": [
    "count_plot(home_data,'Married')"
   ]
  },
  {
   "cell_type": "code",
   "execution_count": 42,
   "id": "12a3cd75",
   "metadata": {
    "scrolled": true
   },
   "outputs": [
    {
     "name": "stdout",
     "output_type": "stream",
     "text": [
      "Graduate        480\n",
      "Not Graduate    134\n",
      "Name: Education, dtype: int64\n"
     ]
    },
    {
     "data": {
      "image/png": "[encoded data removed]",
      "text/plain": [
       "<Figure size 432x288 with 1 Axes>"
      ]
     },
     "metadata": {
      "needs_background": "light"
     },
     "output_type": "display_data"
    }
   ],
   "source": [
    "count_plot(home_data,'Education')"
   ]
  },
  {
   "cell_type": "code",
   "execution_count": 43,
   "id": "2ee4b581",
   "metadata": {},
   "outputs": [
    {
     "name": "stdout",
     "output_type": "stream",
     "text": [
      "No     532\n",
      "Yes     82\n",
      "Name: Self_Employed, dtype: int64\n"
     ]
    },
    {
     "data": {
      "image/png": "[encoded data removed]",
      "text/plain": [
       "<Figure size 432x288 with 1 Axes>"
      ]
     },
     "metadata": {
      "needs_background": "light"
     },
     "output_type": "display_data"
    }
   ],
   "source": [
    "count_plot(home_data,'Self_Employed')"
   ]
  },
  {
   "cell_type": "code",
   "execution_count": 44,
   "id": "d0169225",
   "metadata": {},
   "outputs": [
    {
     "name": "stdout",
     "output_type": "stream",
     "text": [
      "Semiurban    233\n",
      "Urban        202\n",
      "Rural        179\n",
      "Name: Property_Area, dtype: int64\n"
     ]
    },
    {
     "data": {
      "image/png": "[encoded data removed]",
      "text/plain": [
       "<Figure size 432x288 with 1 Axes>"
      ]
     },
     "metadata": {
      "needs_background": "light"
     },
     "output_type": "display_data"
    }
   ],
   "source": [
    "count_plot(home_data,'Property_Area')"
   ]
  },
  {
   "cell_type": "code",
   "execution_count": 45,
   "id": "9e29b8fb",
   "metadata": {
    "scrolled": true
   },
   "outputs": [
    {
     "name": "stdout",
     "output_type": "stream",
     "text": [
      "Y    422\n",
      "N    192\n",
      "Name: Loan_Status, dtype: int64\n"
     ]
    },
    {
     "data": {
      "image/png": "[encoded data removed]",
      "text/plain": [
       "<Figure size 432x288 with 1 Axes>"
      ]
     },
     "metadata": {
      "needs_background": "light"
     },
     "output_type": "display_data"
    }
   ],
   "source": [
    "#Output feature\n",
    "count_plot(home_data,'Loan_Status')"
   ]
  },
  {
   "cell_type": "code",
   "execution_count": 46,
   "id": "65d92b40",
   "metadata": {},
   "outputs": [
    {
     "data": {
      "image/png": "[encoded data removed]",
      "text/plain": [
       "<Figure size 576x576 with 1 Axes>"
      ]
     },
     "metadata": {},
     "output_type": "display_data"
    }
   ],
   "source": [
    "plt.figure(figsize=(8,8))\n",
    "plt.pie(x = home_data['Loan_Status'].value_counts(),\n",
    "        labels=['Yes','No'],autopct='%1.0f%%', labeldistance=1.2,explode=[0.02,0.02],shadow=True);"
   ]
  },
  {
   "cell_type": "markdown",
   "id": "8c5ebdae",
   "metadata": {},
   "source": [
    "### For output feature (Loan Status);data is highly imbalanced"
   ]
  },
  {
   "cell_type": "code",
   "execution_count": 47,
   "id": "5c92113c",
   "metadata": {},
   "outputs": [],
   "source": [
    "#home_data[home_data['Gender']=='Male'] ['ApplicantIncome'].mean()"
   ]
  },
  {
   "cell_type": "code",
   "execution_count": 48,
   "id": "8413221e",
   "metadata": {},
   "outputs": [
    {
     "data": {
      "text/html": [
       "<div>\n",
       "<style scoped>\n",
       "    .dataframe tbody tr th:only-of-type {\n",
       "        vertical-align: middle;\n",
       "    }\n",
       "\n",
       "    .dataframe tbody tr th {\n",
       "        vertical-align: top;\n",
       "    }\n",
       "\n",
       "    .dataframe thead th {\n",
       "        text-align: right;\n",
       "    }\n",
       "</style>\n",
       "<table border=\"1\" class=\"dataframe\">\n",
       "  <thead>\n",
       "    <tr style=\"text-align: right;\">\n",
       "      <th></th>\n",
       "      <th>ApplicantIncome</th>\n",
       "      <th>CoapplicantIncome</th>\n",
       "      <th>LoanAmount</th>\n",
       "      <th>Loan_Amount_Term</th>\n",
       "    </tr>\n",
       "    <tr>\n",
       "      <th>Gender</th>\n",
       "      <th></th>\n",
       "      <th></th>\n",
       "      <th></th>\n",
       "      <th></th>\n",
       "    </tr>\n",
       "  </thead>\n",
       "  <tbody>\n",
       "    <tr>\n",
       "      <th>Female</th>\n",
       "      <td>4643.473214</td>\n",
       "      <td>1108.008929</td>\n",
       "      <td>126.732143</td>\n",
       "      <td>352.500000</td>\n",
       "    </tr>\n",
       "    <tr>\n",
       "      <th>Male</th>\n",
       "      <td>5573.017928</td>\n",
       "      <td>1735.750996</td>\n",
       "      <td>149.996016</td>\n",
       "      <td>340.159363</td>\n",
       "    </tr>\n",
       "  </tbody>\n",
       "</table>\n",
       "</div>"
      ],
      "text/plain": [
       "        ApplicantIncome  CoapplicantIncome  LoanAmount  Loan_Amount_Term\n",
       "Gender                                                                  \n",
       "Female      4643.473214        1108.008929  126.732143        352.500000\n",
       "Male        5573.017928        1735.750996  149.996016        340.159363"
      ]
     },
     "execution_count": 48,
     "metadata": {},
     "output_type": "execute_result"
    }
   ],
   "source": [
    "# Average amounts by Gender\n",
    "groupby_gender=home_data.groupby('Gender')\n",
    "groupby_gender[['ApplicantIncome','CoapplicantIncome','LoanAmount','Loan_Amount_Term']].mean()"
   ]
  },
  {
   "cell_type": "markdown",
   "id": "d6833120",
   "metadata": {},
   "source": [
    "##### The above table shows the mean amount of each gender  for each column\n",
    "eg : Average income of Female and Male is 4643.473214 & 5573.017928 respectively."
   ]
  },
  {
   "cell_type": "code",
   "execution_count": 49,
   "id": "7831dc55",
   "metadata": {},
   "outputs": [
    {
     "data": {
      "text/html": [
       "<div>\n",
       "<style scoped>\n",
       "    .dataframe tbody tr th:only-of-type {\n",
       "        vertical-align: middle;\n",
       "    }\n",
       "\n",
       "    .dataframe tbody tr th {\n",
       "        vertical-align: top;\n",
       "    }\n",
       "\n",
       "    .dataframe thead th {\n",
       "        text-align: right;\n",
       "    }\n",
       "</style>\n",
       "<table border=\"1\" class=\"dataframe\">\n",
       "  <thead>\n",
       "    <tr style=\"text-align: right;\">\n",
       "      <th></th>\n",
       "      <th>ApplicantIncome</th>\n",
       "      <th>CoapplicantIncome</th>\n",
       "      <th>LoanAmount</th>\n",
       "      <th>Loan_Amount_Term</th>\n",
       "    </tr>\n",
       "    <tr>\n",
       "      <th>Married</th>\n",
       "      <th></th>\n",
       "      <th></th>\n",
       "      <th></th>\n",
       "      <th></th>\n",
       "    </tr>\n",
       "  </thead>\n",
       "  <tbody>\n",
       "    <tr>\n",
       "      <th>No</th>\n",
       "      <td>4970.384977</td>\n",
       "      <td>1316.558685</td>\n",
       "      <td>128.85446</td>\n",
       "      <td>351.323944</td>\n",
       "    </tr>\n",
       "    <tr>\n",
       "      <th>Yes</th>\n",
       "      <td>5633.496259</td>\n",
       "      <td>1783.084788</td>\n",
       "      <td>154.72818</td>\n",
       "      <td>337.675810</td>\n",
       "    </tr>\n",
       "  </tbody>\n",
       "</table>\n",
       "</div>"
      ],
      "text/plain": [
       "         ApplicantIncome  CoapplicantIncome  LoanAmount  Loan_Amount_Term\n",
       "Married                                                                  \n",
       "No           4970.384977        1316.558685   128.85446        351.323944\n",
       "Yes          5633.496259        1783.084788   154.72818        337.675810"
      ]
     },
     "execution_count": 49,
     "metadata": {},
     "output_type": "execute_result"
    }
   ],
   "source": [
    "# average amount by marital status\n",
    "avg_marrital_status=home_data.groupby('Married')\n",
    "avg_marrital_status[['ApplicantIncome','CoapplicantIncome','LoanAmount','Loan_Amount_Term']].mean()"
   ]
  },
  {
   "cell_type": "code",
   "execution_count": 50,
   "id": "0499ed20",
   "metadata": {},
   "outputs": [
    {
     "data": {
      "text/html": [
       "<div>\n",
       "<style scoped>\n",
       "    .dataframe tbody tr th:only-of-type {\n",
       "        vertical-align: middle;\n",
       "    }\n",
       "\n",
       "    .dataframe tbody tr th {\n",
       "        vertical-align: top;\n",
       "    }\n",
       "\n",
       "    .dataframe thead th {\n",
       "        text-align: right;\n",
       "    }\n",
       "</style>\n",
       "<table border=\"1\" class=\"dataframe\">\n",
       "  <thead>\n",
       "    <tr style=\"text-align: right;\">\n",
       "      <th></th>\n",
       "      <th>ApplicantIncome</th>\n",
       "      <th>CoapplicantIncome</th>\n",
       "      <th>LoanAmount</th>\n",
       "      <th>Loan_Amount_Term</th>\n",
       "    </tr>\n",
       "    <tr>\n",
       "      <th>Education</th>\n",
       "      <th></th>\n",
       "      <th></th>\n",
       "      <th></th>\n",
       "      <th></th>\n",
       "    </tr>\n",
       "  </thead>\n",
       "  <tbody>\n",
       "    <tr>\n",
       "      <th>Graduate</th>\n",
       "      <td>5857.433333</td>\n",
       "      <td>1717.472917</td>\n",
       "      <td>153.245833</td>\n",
       "      <td>344.925000</td>\n",
       "    </tr>\n",
       "    <tr>\n",
       "      <th>Not Graduate</th>\n",
       "      <td>3777.283582</td>\n",
       "      <td>1276.544776</td>\n",
       "      <td>118.910448</td>\n",
       "      <td>333.402985</td>\n",
       "    </tr>\n",
       "  </tbody>\n",
       "</table>\n",
       "</div>"
      ],
      "text/plain": [
       "              ApplicantIncome  CoapplicantIncome  LoanAmount  Loan_Amount_Term\n",
       "Education                                                                     \n",
       "Graduate          5857.433333        1717.472917  153.245833        344.925000\n",
       "Not Graduate      3777.283582        1276.544776  118.910448        333.402985"
      ]
     },
     "execution_count": 50,
     "metadata": {},
     "output_type": "execute_result"
    }
   ],
   "source": [
    "#average income by education status\n",
    "avg_education=home_data.groupby('Education')\n",
    "avg_education[['ApplicantIncome','CoapplicantIncome','LoanAmount','Loan_Amount_Term']].mean()"
   ]
  },
  {
   "cell_type": "code",
   "execution_count": 51,
   "id": "15cd7e81",
   "metadata": {
    "scrolled": false
   },
   "outputs": [
    {
     "data": {
      "text/html": [
       "<div>\n",
       "<style scoped>\n",
       "    .dataframe tbody tr th:only-of-type {\n",
       "        vertical-align: middle;\n",
       "    }\n",
       "\n",
       "    .dataframe tbody tr th {\n",
       "        vertical-align: top;\n",
       "    }\n",
       "\n",
       "    .dataframe thead th {\n",
       "        text-align: right;\n",
       "    }\n",
       "</style>\n",
       "<table border=\"1\" class=\"dataframe\">\n",
       "  <thead>\n",
       "    <tr style=\"text-align: right;\">\n",
       "      <th></th>\n",
       "      <th>ApplicantIncome</th>\n",
       "      <th>CoapplicantIncome</th>\n",
       "      <th>LoanAmount</th>\n",
       "      <th>Loan_Amount_Term</th>\n",
       "    </tr>\n",
       "    <tr>\n",
       "      <th>Self_Employed</th>\n",
       "      <th></th>\n",
       "      <th></th>\n",
       "      <th></th>\n",
       "      <th></th>\n",
       "    </tr>\n",
       "  </thead>\n",
       "  <tbody>\n",
       "    <tr>\n",
       "      <th>No</th>\n",
       "      <td>5098.678571</td>\n",
       "      <td>1639.725564</td>\n",
       "      <td>141.954887</td>\n",
       "      <td>343.263158</td>\n",
       "    </tr>\n",
       "    <tr>\n",
       "      <th>Yes</th>\n",
       "      <td>7380.817073</td>\n",
       "      <td>1501.341463</td>\n",
       "      <td>170.390244</td>\n",
       "      <td>336.878049</td>\n",
       "    </tr>\n",
       "  </tbody>\n",
       "</table>\n",
       "</div>"
      ],
      "text/plain": [
       "               ApplicantIncome  CoapplicantIncome  LoanAmount  \\\n",
       "Self_Employed                                                   \n",
       "No                 5098.678571        1639.725564  141.954887   \n",
       "Yes                7380.817073        1501.341463  170.390244   \n",
       "\n",
       "               Loan_Amount_Term  \n",
       "Self_Employed                    \n",
       "No                   343.263158  \n",
       "Yes                  336.878049  "
      ]
     },
     "execution_count": 51,
     "metadata": {},
     "output_type": "execute_result"
    }
   ],
   "source": [
    "#average amounts by self employment\n",
    "avg_employment=home_data.groupby('Self_Employed')\n",
    "avg_employment[['ApplicantIncome','CoapplicantIncome','LoanAmount','Loan_Amount_Term']].mean()"
   ]
  },
  {
   "cell_type": "markdown",
   "id": "808ff902",
   "metadata": {},
   "source": [
    "##### \n",
    "- In below count plot we will pass the process for columns 'Property_Area' and 'Loan_Status'\n",
    "and will use count plot for other cat features"
   ]
  },
  {
   "cell_type": "code",
   "execution_count": 52,
   "id": "dfaefec4",
   "metadata": {
    "scrolled": true
   },
   "outputs": [
    {
     "data": {
      "image/png": "[encoded data removed]",
      "text/plain": [
       "<Figure size 432x432 with 1 Axes>"
      ]
     },
     "metadata": {
      "needs_background": "light"
     },
     "output_type": "display_data"
    },
    {
     "data": {
      "image/png": "[encoded data removed]",
      "text/plain": [
       "<Figure size 432x432 with 1 Axes>"
      ]
     },
     "metadata": {
      "needs_background": "light"
     },
     "output_type": "display_data"
    },
    {
     "data": {
      "image/png": "[encoded data removed]",
      "text/plain": [
       "<Figure size 432x432 with 1 Axes>"
      ]
     },
     "metadata": {
      "needs_background": "light"
     },
     "output_type": "display_data"
    },
    {
     "data": {
      "image/png": "[encoded data removed]",
      "text/plain": [
       "<Figure size 432x432 with 1 Axes>"
      ]
     },
     "metadata": {
      "needs_background": "light"
     },
     "output_type": "display_data"
    }
   ],
   "source": [
    "for i in categorical_features:\n",
    "    if i=='Property_Area':\n",
    "        pass\n",
    "    elif i=='Loan_Status':\n",
    "        pass\n",
    "    else:\n",
    "        plt.figure(figsize=(6,6))\n",
    "        sns.countplot(x=i,data=home_data,hue='Loan_Status')\n",
    "        plt.title('Count_plot of {} and Loan_Status'.format(i))"
   ]
  },
  {
   "cell_type": "markdown",
   "id": "8e794a5f",
   "metadata": {},
   "source": [
    "1) First plot shows count of Gender for each Loan status\n",
    "\n",
    "2) Second plot shows count of Marrital status for each Loan status\n",
    "\n",
    "3) Thord plot shows count of Educational status for each Loan status\n",
    "\n",
    "4) Fourth plot shows count of Employment for each Loan status"
   ]
  },
  {
   "cell_type": "code",
   "execution_count": 53,
   "id": "a3b3388a",
   "metadata": {},
   "outputs": [
    {
     "data": {
      "text/html": [
       "<div>\n",
       "<style scoped>\n",
       "    .dataframe tbody tr th:only-of-type {\n",
       "        vertical-align: middle;\n",
       "    }\n",
       "\n",
       "    .dataframe tbody tr th {\n",
       "        vertical-align: top;\n",
       "    }\n",
       "\n",
       "    .dataframe thead th {\n",
       "        text-align: right;\n",
       "    }\n",
       "</style>\n",
       "<table border=\"1\" class=\"dataframe\">\n",
       "  <thead>\n",
       "    <tr style=\"text-align: right;\">\n",
       "      <th></th>\n",
       "      <th>Gender</th>\n",
       "      <th>Married</th>\n",
       "      <th>Education</th>\n",
       "      <th>Self_Employed</th>\n",
       "      <th>Property_Area</th>\n",
       "      <th>Loan_Status</th>\n",
       "    </tr>\n",
       "  </thead>\n",
       "  <tbody>\n",
       "    <tr>\n",
       "      <th>0</th>\n",
       "      <td>Male</td>\n",
       "      <td>No</td>\n",
       "      <td>Graduate</td>\n",
       "      <td>No</td>\n",
       "      <td>Urban</td>\n",
       "      <td>Y</td>\n",
       "    </tr>\n",
       "    <tr>\n",
       "      <th>1</th>\n",
       "      <td>Male</td>\n",
       "      <td>Yes</td>\n",
       "      <td>Graduate</td>\n",
       "      <td>No</td>\n",
       "      <td>Rural</td>\n",
       "      <td>N</td>\n",
       "    </tr>\n",
       "    <tr>\n",
       "      <th>2</th>\n",
       "      <td>Male</td>\n",
       "      <td>Yes</td>\n",
       "      <td>Graduate</td>\n",
       "      <td>Yes</td>\n",
       "      <td>Urban</td>\n",
       "      <td>Y</td>\n",
       "    </tr>\n",
       "    <tr>\n",
       "      <th>3</th>\n",
       "      <td>Male</td>\n",
       "      <td>Yes</td>\n",
       "      <td>Not Graduate</td>\n",
       "      <td>No</td>\n",
       "      <td>Urban</td>\n",
       "      <td>Y</td>\n",
       "    </tr>\n",
       "    <tr>\n",
       "      <th>4</th>\n",
       "      <td>Male</td>\n",
       "      <td>No</td>\n",
       "      <td>Graduate</td>\n",
       "      <td>No</td>\n",
       "      <td>Urban</td>\n",
       "      <td>Y</td>\n",
       "    </tr>\n",
       "    <tr>\n",
       "      <th>...</th>\n",
       "      <td>...</td>\n",
       "      <td>...</td>\n",
       "      <td>...</td>\n",
       "      <td>...</td>\n",
       "      <td>...</td>\n",
       "      <td>...</td>\n",
       "    </tr>\n",
       "    <tr>\n",
       "      <th>609</th>\n",
       "      <td>Female</td>\n",
       "      <td>No</td>\n",
       "      <td>Graduate</td>\n",
       "      <td>No</td>\n",
       "      <td>Rural</td>\n",
       "      <td>Y</td>\n",
       "    </tr>\n",
       "    <tr>\n",
       "      <th>610</th>\n",
       "      <td>Male</td>\n",
       "      <td>Yes</td>\n",
       "      <td>Graduate</td>\n",
       "      <td>No</td>\n",
       "      <td>Rural</td>\n",
       "      <td>Y</td>\n",
       "    </tr>\n",
       "    <tr>\n",
       "      <th>611</th>\n",
       "      <td>Male</td>\n",
       "      <td>Yes</td>\n",
       "      <td>Graduate</td>\n",
       "      <td>No</td>\n",
       "      <td>Urban</td>\n",
       "      <td>Y</td>\n",
       "    </tr>\n",
       "    <tr>\n",
       "      <th>612</th>\n",
       "      <td>Male</td>\n",
       "      <td>Yes</td>\n",
       "      <td>Graduate</td>\n",
       "      <td>No</td>\n",
       "      <td>Urban</td>\n",
       "      <td>Y</td>\n",
       "    </tr>\n",
       "    <tr>\n",
       "      <th>613</th>\n",
       "      <td>Female</td>\n",
       "      <td>No</td>\n",
       "      <td>Graduate</td>\n",
       "      <td>Yes</td>\n",
       "      <td>Semiurban</td>\n",
       "      <td>N</td>\n",
       "    </tr>\n",
       "  </tbody>\n",
       "</table>\n",
       "<p>614 rows × 6 columns</p>\n",
       "</div>"
      ],
      "text/plain": [
       "     Gender Married     Education Self_Employed Property_Area Loan_Status\n",
       "0      Male      No      Graduate            No         Urban           Y\n",
       "1      Male     Yes      Graduate            No         Rural           N\n",
       "2      Male     Yes      Graduate           Yes         Urban           Y\n",
       "3      Male     Yes  Not Graduate            No         Urban           Y\n",
       "4      Male      No      Graduate            No         Urban           Y\n",
       "..      ...     ...           ...           ...           ...         ...\n",
       "609  Female      No      Graduate            No         Rural           Y\n",
       "610    Male     Yes      Graduate            No         Rural           Y\n",
       "611    Male     Yes      Graduate            No         Urban           Y\n",
       "612    Male     Yes      Graduate            No         Urban           Y\n",
       "613  Female      No      Graduate           Yes     Semiurban           N\n",
       "\n",
       "[614 rows x 6 columns]"
      ]
     },
     "execution_count": 53,
     "metadata": {},
     "output_type": "execute_result"
    }
   ],
   "source": [
    "categorical_features"
   ]
  },
  {
   "cell_type": "markdown",
   "id": "3c954f46",
   "metadata": {},
   "source": [
    "##### Now we will transform our categorical features into numeric variables  by using encoding technique"
   ]
  },
  {
   "cell_type": "code",
   "execution_count": 54,
   "id": "2a792284",
   "metadata": {},
   "outputs": [],
   "source": [
    "#We will make copy of our original dataset and will use it for further prcess\n",
    "home_data_copy=home_data.copy()"
   ]
  },
  {
   "cell_type": "code",
   "execution_count": 55,
   "id": "0ac7b0c1",
   "metadata": {},
   "outputs": [],
   "source": [
    "#Transforming Categorical features into numeric\n",
    "label_encoder = LabelEncoder()\n",
    "\n",
    "home_data_copy['Gender']= label_encoder.fit_transform(home_data_copy['Gender'])\n",
    "home_data_copy['Married']= label_encoder.fit_transform(home_data_copy['Married'])\n",
    "home_data_copy['Education']= label_encoder.fit_transform(home_data_copy['Education'])\n",
    "home_data_copy['Self_Employed']= label_encoder.fit_transform(home_data_copy['Self_Employed'])\n",
    "home_data_copy['Property_Area']= label_encoder.fit_transform(home_data_copy['Property_Area'])\n",
    "home_data_copy['Loan_Status']= label_encoder.fit_transform(home_data_copy['Loan_Status'])"
   ]
  },
  {
   "cell_type": "code",
   "execution_count": 56,
   "id": "5e2804d8",
   "metadata": {},
   "outputs": [
    {
     "data": {
      "text/html": [
       "<div>\n",
       "<style scoped>\n",
       "    .dataframe tbody tr th:only-of-type {\n",
       "        vertical-align: middle;\n",
       "    }\n",
       "\n",
       "    .dataframe tbody tr th {\n",
       "        vertical-align: top;\n",
       "    }\n",
       "\n",
       "    .dataframe thead th {\n",
       "        text-align: right;\n",
       "    }\n",
       "</style>\n",
       "<table border=\"1\" class=\"dataframe\">\n",
       "  <thead>\n",
       "    <tr style=\"text-align: right;\">\n",
       "      <th></th>\n",
       "      <th>Gender</th>\n",
       "      <th>Married</th>\n",
       "      <th>Dependents</th>\n",
       "      <th>Education</th>\n",
       "      <th>Self_Employed</th>\n",
       "      <th>ApplicantIncome</th>\n",
       "      <th>CoapplicantIncome</th>\n",
       "      <th>LoanAmount</th>\n",
       "      <th>Loan_Amount_Term</th>\n",
       "      <th>Credit_History</th>\n",
       "      <th>Property_Area</th>\n",
       "      <th>Loan_Status</th>\n",
       "    </tr>\n",
       "  </thead>\n",
       "  <tbody>\n",
       "    <tr>\n",
       "      <th>609</th>\n",
       "      <td>0</td>\n",
       "      <td>0</td>\n",
       "      <td>0</td>\n",
       "      <td>0</td>\n",
       "      <td>0</td>\n",
       "      <td>2900</td>\n",
       "      <td>0</td>\n",
       "      <td>71</td>\n",
       "      <td>360</td>\n",
       "      <td>1</td>\n",
       "      <td>0</td>\n",
       "      <td>1</td>\n",
       "    </tr>\n",
       "    <tr>\n",
       "      <th>610</th>\n",
       "      <td>1</td>\n",
       "      <td>1</td>\n",
       "      <td>3</td>\n",
       "      <td>0</td>\n",
       "      <td>0</td>\n",
       "      <td>4106</td>\n",
       "      <td>0</td>\n",
       "      <td>40</td>\n",
       "      <td>180</td>\n",
       "      <td>1</td>\n",
       "      <td>0</td>\n",
       "      <td>1</td>\n",
       "    </tr>\n",
       "    <tr>\n",
       "      <th>611</th>\n",
       "      <td>1</td>\n",
       "      <td>1</td>\n",
       "      <td>1</td>\n",
       "      <td>0</td>\n",
       "      <td>0</td>\n",
       "      <td>8072</td>\n",
       "      <td>240</td>\n",
       "      <td>253</td>\n",
       "      <td>360</td>\n",
       "      <td>1</td>\n",
       "      <td>2</td>\n",
       "      <td>1</td>\n",
       "    </tr>\n",
       "    <tr>\n",
       "      <th>612</th>\n",
       "      <td>1</td>\n",
       "      <td>1</td>\n",
       "      <td>2</td>\n",
       "      <td>0</td>\n",
       "      <td>0</td>\n",
       "      <td>7583</td>\n",
       "      <td>0</td>\n",
       "      <td>187</td>\n",
       "      <td>360</td>\n",
       "      <td>1</td>\n",
       "      <td>2</td>\n",
       "      <td>1</td>\n",
       "    </tr>\n",
       "    <tr>\n",
       "      <th>613</th>\n",
       "      <td>0</td>\n",
       "      <td>0</td>\n",
       "      <td>0</td>\n",
       "      <td>0</td>\n",
       "      <td>1</td>\n",
       "      <td>4583</td>\n",
       "      <td>0</td>\n",
       "      <td>133</td>\n",
       "      <td>360</td>\n",
       "      <td>0</td>\n",
       "      <td>1</td>\n",
       "      <td>0</td>\n",
       "    </tr>\n",
       "  </tbody>\n",
       "</table>\n",
       "</div>"
      ],
      "text/plain": [
       "     Gender  Married  Dependents  Education  Self_Employed  ApplicantIncome  \\\n",
       "609       0        0           0          0              0             2900   \n",
       "610       1        1           3          0              0             4106   \n",
       "611       1        1           1          0              0             8072   \n",
       "612       1        1           2          0              0             7583   \n",
       "613       0        0           0          0              1             4583   \n",
       "\n",
       "     CoapplicantIncome  LoanAmount  Loan_Amount_Term  Credit_History  \\\n",
       "609                  0          71               360               1   \n",
       "610                  0          40               180               1   \n",
       "611                240         253               360               1   \n",
       "612                  0         187               360               1   \n",
       "613                  0         133               360               0   \n",
       "\n",
       "     Property_Area  Loan_Status  \n",
       "609              0            1  \n",
       "610              0            1  \n",
       "611              2            1  \n",
       "612              2            1  \n",
       "613              1            0  "
      ]
     },
     "execution_count": 56,
     "metadata": {},
     "output_type": "execute_result"
    }
   ],
   "source": [
    "home_data_copy.tail()   # last 5 columns of transformed data"
   ]
  },
  {
   "cell_type": "markdown",
   "id": "c46e9cd0",
   "metadata": {},
   "source": [
    "## Spliting data into training and testing "
   ]
  },
  {
   "cell_type": "code",
   "execution_count": 57,
   "id": "f824ea4e",
   "metadata": {},
   "outputs": [],
   "source": [
    "X = home_data_copy.iloc[:,:-1]\n",
    "y = home_data_copy.iloc[:,-1:]"
   ]
  },
  {
   "cell_type": "code",
   "execution_count": 58,
   "id": "9b02d5b1",
   "metadata": {},
   "outputs": [],
   "source": [
    "X_train,X_test,y_train,y_test = train_test_split(X,y,random_state=42,test_size=0.20,stratify=y)"
   ]
  },
  {
   "cell_type": "code",
   "execution_count": 59,
   "id": "27cefcda",
   "metadata": {
    "scrolled": true
   },
   "outputs": [
    {
     "name": "stdout",
     "output_type": "stream",
     "text": [
      "(491, 11)\n",
      "(491, 1)\n",
      "(123, 11)\n",
      "(123, 1)\n"
     ]
    }
   ],
   "source": [
    "print(X_train.shape)\n",
    "print(y_train.shape)\n",
    "\n",
    "print(X_test.shape)\n",
    "print(y_test.shape)"
   ]
  },
  {
   "cell_type": "markdown",
   "id": "9237ee41",
   "metadata": {},
   "source": [
    "### Fitting Different Classification Models on Imbalanced data"
   ]
  },
  {
   "cell_type": "code",
   "execution_count": 60,
   "id": "5d57a796",
   "metadata": {},
   "outputs": [],
   "source": [
    "def run_Logistic(X_train,y_train,X_test,y_test):\n",
    "    log_model = LogisticRegression(random_state=42)\n",
    "    log_model.fit(X_train,y_train)                   # training model\n",
    "    \n",
    "    y_pred = log_model.predict(X_test) \n",
    "    y_pred_train = log_model.predict(X_train)# Predictions\n",
    "    \n",
    "    print('Training Score :',round(accuracy_score(y_train,y_pred_train),4),'\\n')\n",
    "    print('Accuracy :',round(accuracy_score(y_test,y_pred),4),'\\n')\n",
    "\n",
    "     #Confusion matrix\n",
    "    confusion_mat = confusion_matrix(y_test, y_pred)\n",
    "    cm_display = ConfusionMatrixDisplay(confusion_matrix = confusion_mat, display_labels = [False, True])                                         \n",
    "    cm_display.plot()\n",
    "    plt.show()\n",
    "    #Accuracy\n",
    "    print('Precision Score :',round(precision_score(y_test,y_pred),4),'\\n')\n",
    "    print('Recall Score :',round(recall_score(y_test,y_pred),4),'\\n')\n",
    "    print('Classification Report : ','\\n',classification_report(y_test,y_pred),'\\n')\n",
    "    print('ROC_AUC Score :',round(roc_auc_score(y_test,y_pred),4),'\\n')\n",
    "    \n",
    "    print('ROC_AUC Curve :\\n')\n",
    "    fpr,tpr,thresholds = roc_curve(y_test,log_model.predict_proba (X_test)[:,1])\n",
    "    auc = roc_auc_score(y_test,y_pred)\n",
    "    plt.plot(fpr,tpr,color = 'blue',label = 'logistic model (area = %0.2f)'%auc)\n",
    "    plt.plot([0,1],[0, 1],'k--')\n",
    "    plt.xlabel('False Positive Rate or [1 -True Negative Rate]')\n",
    "    plt.ylabel('True Positive Rate')\n",
    "    \n",
    "    \n",
    "    \n",
    "def run_Decision_tree(X_train,y_train,X_test,y_test):\n",
    "    dt_model = DecisionTreeClassifier(max_depth=5,criterion='gini',random_state=42)\n",
    "    dt_model.fit(X_train,y_train)\n",
    "    \n",
    "    y_pred = dt_model.predict(X_test)\n",
    "    y_pred_train = dt_model.predict(X_train)# Predictions\n",
    "    \n",
    "    print('Training Score :',round(accuracy_score(y_train,y_pred_train),4),'\\n')  \n",
    "    print('Accuracy :',round(accuracy_score(y_test,y_pred),4),'\\n')\n",
    "    #Confusion matrix\n",
    "    confusion_mat = confusion_matrix(y_test, y_pred)\n",
    "    cm_display = ConfusionMatrixDisplay(confusion_matrix = confusion_mat, display_labels = [False, True])                                         \n",
    "    cm_display.plot()\n",
    "    plt.show()\n",
    "    #Accuracy\n",
    "    print('Precision Score :',round(precision_score(y_test,y_pred),4),'\\n')\n",
    "    print('Recall Score :',round(recall_score(y_test,y_pred),4),'\\n')\n",
    "    print('Classification Report : ','\\n',classification_report(y_test,y_pred),'\\n')\n",
    "    print('ROC_AUC Score :',round(roc_auc_score(y_test,y_pred),4),'\\n')\n",
    "\n",
    "    print('ROC_AUC Curve :\\n')\n",
    "    fpr,tpr,thresholds = roc_curve(y_test,dt_model.predict_proba (X_test)[:,1])\n",
    "    auc = roc_auc_score(y_test,y_pred)\n",
    "    plt.plot(fpr,tpr,color = 'blue',label = 'DT model (area = %0.2f)'%auc)\n",
    "    plt.plot([0,1],[0, 1],'k--')\n",
    "    plt.xlabel('False Positive Rate or [1 -True Negative Rate]')\n",
    "    plt.ylabel('True Positive Rate')\n",
    "    \n",
    "    \n",
    "    \n",
    "def run_Random_forest(X_train,y_train,X_test,y_test):\n",
    "    rf_model = RandomForestClassifier(max_depth=5,random_state=42,criterion='entropy')\n",
    "    rf_model.fit(X_train,y_train)\n",
    "    \n",
    "    y_pred = rf_model.predict(X_test)\n",
    "    y_pred_train = rf_model.predict(X_train)# Predictions\n",
    "    \n",
    "    print('Training Score :',round(accuracy_score(y_train,y_pred_train),4),'\\n')    \n",
    "    print('Accuracy :',round(accuracy_score(y_test,y_pred),4),'\\n')\n",
    "     #Confusion matrix\n",
    "    confusion_mat = confusion_matrix(y_test, y_pred)\n",
    "    cm_display = ConfusionMatrixDisplay(confusion_matrix = confusion_mat, display_labels = [False, True])                                         \n",
    "    cm_display.plot()\n",
    "    plt.show()\n",
    "    #Accuracy\n",
    "    print('Precision Score :',round(precision_score(y_test,y_pred),4),'\\n')\n",
    "    print('Recall Score :',round(recall_score(y_test,y_pred),4))\n",
    "    print('Classification Report : ','\\n',classification_report(y_test,y_pred),'\\n')\n",
    "    print('ROC_AUC Score :',round(roc_auc_score(y_test,y_pred),4),'\\n')\n",
    "\n",
    "    print('ROC_AUC Curve :\\n')\n",
    "    fpr,tpr,thresholds = roc_curve(y_test,rf_model.predict_proba (X_test)[:,1])\n",
    "    auc = roc_auc_score(y_test,y_pred)\n",
    "    plt.plot(fpr,tpr,color = 'blue',label = 'RF model (area = %0.2f)'%auc)\n",
    "    plt.plot([0,1],[0, 1],'k--')\n",
    "    plt.xlabel('False Positive Rate or [1 -True Negative Rate]')\n",
    "    plt.ylabel('True Positive Rate')  \n",
    "    \n",
    "    \n",
    "def run_gradient_b(X_train,y_train,X_test,y_test):\n",
    "    gb_model = GradientBoostingClassifier(random_state=42)\n",
    "    gb_model.fit(X_train,y_train)\n",
    "    \n",
    "    y_pred = gb_model.predict(X_test)\n",
    "    y_pred_train = gb_model.predict(X_train)# Predictions\n",
    "    \n",
    "    print('Training Score :',round(accuracy_score(y_train,y_pred_train),4),'\\n')   \n",
    "    print('Accuracy :',round(accuracy_score(y_test,y_pred),4),'\\n')\n",
    "     #Confusion matrix\n",
    "    confusion_mat = confusion_matrix(y_test, y_pred)\n",
    "    cm_display = ConfusionMatrixDisplay(confusion_matrix = confusion_mat, display_labels = [False, True])                                         \n",
    "    cm_display.plot()\n",
    "    plt.show()\n",
    "    #Accuracy\n",
    "    print('Precision Score :',round(precision_score(y_test,y_pred),4),'\\n')\n",
    "    print('Recall Score :',round(recall_score(y_test,y_pred),4),'\\n')\n",
    "    print('Classification Report : ','\\n',classification_report(y_test,y_pred),'\\n')\n",
    "    print('ROC_AUC Score :',round(roc_auc_score(y_test,y_pred),4),'\\n')\n",
    "\n",
    "    print('ROC_AUC Curve :\\n')\n",
    "    fpr,tpr,thresholds = roc_curve(y_test,gb_model.predict_proba (X_test)[:,1])\n",
    "    auc = roc_auc_score(y_test,y_pred)\n",
    "    plt.plot(fpr,tpr,color = 'blue',label = 'DT model (area = %0.2f)'%auc)\n",
    "    plt.plot([0,1],[0, 1],'k--')\n",
    "    plt.xlabel('False Positive Rate or [1 -True Negative Rate]')\n",
    "    plt.ylabel('True Positive Rate')\n",
    "    \n",
    "    \n",
    "def run_adaboost(X_train,y_train,X_test,y_test):\n",
    "    adb_model = AdaBoostClassifier(random_state=42)\n",
    "    adb_model.fit(X_train,y_train)\n",
    "    \n",
    "    y_pred = adb_model.predict(X_test)\n",
    "    y_pred_train = adb_model.predict(X_train)# Predictions\n",
    "    \n",
    "    print('Training Score :',round(accuracy_score(y_train,y_pred_train),4),'\\n')\n",
    "    print('Accuracy :',round(accuracy_score(y_test,y_pred),4),'\\n')\n",
    "     #Confusion matrix\n",
    "    confusion_mat = confusion_matrix(y_test, y_pred)\n",
    "    cm_display = ConfusionMatrixDisplay(confusion_matrix = confusion_mat, display_labels = [False, True])                                         \n",
    "    cm_display.plot()\n",
    "    plt.show()\n",
    "    #Accuracy\n",
    "    print('Precision Score :',round(precision_score(y_test,y_pred),4),'\\n')\n",
    "    print('Recall Score :',round(recall_score(y_test,y_pred),4),'\\n')\n",
    "    print('Classification Report : ','\\n',classification_report(y_test,y_pred),'\\n')\n",
    "    print('ROC_AUC Score :',round(roc_auc_score(y_test,y_pred),4),'\\n')\n",
    "\n",
    "    print('ROC_AUC Curve :\\n')\n",
    "    fpr,tpr,thresholds = roc_curve(y_test,adb_model.predict_proba (X_test)[:,1])\n",
    "    auc = roc_auc_score(y_test,y_pred)\n",
    "    plt.plot(fpr,tpr,color = 'blue',label = 'ADB model (area = %0.2f)'%auc)\n",
    "    plt.plot([0,1],[0, 1],'k--')\n",
    "    plt.xlabel('False Positive Rate or [1 -True Negative Rate]')\n",
    "    plt.ylabel('True Positive Rate')\n",
    "    \n",
    "    \n",
    "    \n",
    "def run_SVC(X_train,y_train,X_test,y_test):\n",
    "    svc_model = SVC(probability=True,random_state=42)\n",
    "    svc_model.fit(X_train,y_train)\n",
    "    \n",
    "    y_pred = svc_model.predict(X_test)\n",
    "    y_pred_train = svc_model.predict(X_train)# Predictions\n",
    "    \n",
    "    print('Training Score :',round(accuracy_score(y_train,y_pred_train),4),'\\n')    \n",
    "    print('Accuracy :',round(accuracy_score(y_test,y_pred),4),'\\n')\n",
    "     #Confusion matrix\n",
    "    confusion_mat = confusion_matrix(y_test, y_pred)\n",
    "    cm_display = ConfusionMatrixDisplay(confusion_matrix = confusion_mat, display_labels = [False, True])                                         \n",
    "    cm_display.plot()\n",
    "    plt.show()\n",
    "    #Accuracy\n",
    "    print('Precision Score :',round(precision_score(y_test,y_pred),4),'\\n')\n",
    "    print('Recall Score :',round(recall_score(y_test,y_pred),4),'\\n')\n",
    "    print('Classification Report : ','\\n',classification_report(y_test,y_pred),'\\n')\n",
    "    print('ROC_AUC Score :',round(roc_auc_score(y_test,y_pred),4),'\\n')\n",
    "\n",
    "    print('ROC_AUC Curve :\\n')\n",
    "    fpr,tpr,thresholds = roc_curve(y_test,svc_model.predict_proba(X_test)[:,1])\n",
    "    auc = roc_auc_score(y_test,y_pred)\n",
    "    plt.plot(fpr,tpr,color = 'blue',label = 'SVC model (area = %0.2f)'%auc)\n",
    "    plt.plot([0,1],[0, 1],'k--')\n",
    "    plt.xlabel('False Positive Rate or [1 -True Negative Rate]')\n",
    "    plt.ylabel('True Positive Rate')\n",
    "    \n",
    "    \n",
    "def run_knn(X_train,y_train,X_test,y_test):\n",
    "    knn_model = KNeighborsClassifier()\n",
    "    knn_model.fit(X_train,y_train)\n",
    "    \n",
    "    y_pred = knn_model.predict(X_test)\n",
    "    y_pred_train = knn_model.predict(X_train)# Predictions\n",
    "    \n",
    "    print('Training Score :',round(accuracy_score(y_train,y_pred_train),4),'\\n')    \n",
    "    print('Accuracy :',round(accuracy_score(y_test,y_pred),4),'\\n')\n",
    "     #Confusion matrix\n",
    "    confusion_mat = confusion_matrix(y_test, y_pred)\n",
    "    cm_display = ConfusionMatrixDisplay(confusion_matrix = confusion_mat, display_labels = [False, True])                                         \n",
    "    cm_display.plot()\n",
    "    plt.show()\n",
    "    #Accuracy\n",
    "    print('Precision Score :',round(precision_score(y_test,y_pred),4),'\\n','\\n')\n",
    "    print('Recall Score :',round(recall_score(y_test,y_pred),4),'\\n')\n",
    "    print('Classification Report : ','\\n',classification_report(y_test,y_pred),'\\n')\n",
    "    print('ROC_AUC Score :',round(roc_auc_score(y_test,y_pred),4),'\\n')\n",
    "    \n",
    "    print('ROC_AUC Curve :\\n')\n",
    "    fpr,tpr,thresholds = roc_curve(y_test,knn_model.predict_proba (X_test)[:,1])\n",
    "    auc = roc_auc_score(y_test,y_pred)\n",
    "    plt.plot(fpr,tpr,color = 'blue',label = 'KNN model (area = %0.2f)'%auc)\n",
    "    plt.plot([0,1],[0, 1],'k--')\n",
    "    plt.xlabel('False Positive Rate or [1 -True Negative Rate]')\n",
    "    plt.ylabel('True Positive Rate')\n",
    "    \n",
    "    \n",
    "def run_xgb(X_train,y_train,X_test,y_test):\n",
    "    xgb_model = XGBClassifier(random_state=42)\n",
    "    xgb_model.fit(X_train,y_train)\n",
    "    \n",
    "    y_pred = xgb_model.predict(X_test)\n",
    "    y_pred_train = xgb_model.predict(X_train)# Predictions\n",
    "    \n",
    "    print('Training Score :',round(accuracy_score(y_train,y_pred_train),4),'\\n')    \n",
    "    print('Accuracy :',round(accuracy_score(y_test,y_pred),4),'\\n')\n",
    "     #Confusion matrix\n",
    "    confusion_mat = confusion_matrix(y_test, y_pred)\n",
    "    cm_display = ConfusionMatrixDisplay(confusion_matrix = confusion_mat, display_labels = [False, True])                                         \n",
    "    cm_display.plot()\n",
    "    plt.show()\n",
    "    #Accuracy\n",
    "    print('Precision Score :',round(precision_score(y_test,y_pred),4),'\\n','\\n')\n",
    "    print('Recall Score :',round(recall_score(y_test,y_pred),4),'\\n')\n",
    "    print('Classification Report : ','\\n',classification_report(y_test,y_pred),'\\n')\n",
    "    print('ROC_AUC Score :',round(roc_auc_score(y_test,y_pred),4),'\\n')\n",
    "    \n",
    "    print('ROC_AUC Curve :\\n')\n",
    "    fpr,tpr,thresholds = roc_curve(y_test,xgb_model.predict_proba (X_test)[:,1])\n",
    "    auc = roc_auc_score(y_test,y_pred)\n",
    "    plt.plot(fpr,tpr,color = 'blue',label = 'KNN model (area = %0.2f)'%auc)\n",
    "    plt.plot([0,1],[0, 1],'k--')\n",
    "    plt.xlabel('False Positive Rate or [1 -True Negative Rate]')\n",
    "    plt.ylabel('True Positive Rate')"
   ]
  },
  {
   "cell_type": "markdown",
   "id": "b352dabe",
   "metadata": {},
   "source": [
    "## Logistic Regression"
   ]
  },
  {
   "cell_type": "code",
   "execution_count": 61,
   "id": "b9bf6904",
   "metadata": {
    "scrolled": false
   },
   "outputs": [
    {
     "name": "stdout",
     "output_type": "stream",
     "text": [
      "Training Score : 0.7984 \n",
      "\n",
      "Accuracy : 0.8618 \n",
      "\n"
     ]
    },
    {
     "data": {
      "image/png": "[encoded data removed]",
      "text/plain": [
       "<Figure size 432x288 with 2 Axes>"
      ]
     },
     "metadata": {
      "needs_background": "light"
     },
     "output_type": "display_data"
    },
    {
     "name": "stdout",
     "output_type": "stream",
     "text": [
      "Precision Score : 0.84 \n",
      "\n",
      "Recall Score : 0.9882 \n",
      "\n",
      "Classification Report :  \n",
      "               precision    recall  f1-score   support\n",
      "\n",
      "           0       0.96      0.58      0.72        38\n",
      "           1       0.84      0.99      0.91        85\n",
      "\n",
      "    accuracy                           0.86       123\n",
      "   macro avg       0.90      0.78      0.81       123\n",
      "weighted avg       0.88      0.86      0.85       123\n",
      " \n",
      "\n",
      "ROC_AUC Score : 0.7836 \n",
      "\n",
      "ROC_AUC Curve :\n",
      "\n"
     ]
    },
    {
     "data": {
      "image/png": "[encoded data removed]",
      "text/plain": [
       "<Figure size 432x288 with 1 Axes>"
      ]
     },
     "metadata": {
      "needs_background": "light"
     },
     "output_type": "display_data"
    }
   ],
   "source": [
    "run_Logistic(X_train,y_train,X_test,y_test)"
   ]
  },
  {
   "cell_type": "markdown",
   "id": "9a4ce6cf",
   "metadata": {},
   "source": [
    "## DT Classifier"
   ]
  },
  {
   "cell_type": "code",
   "execution_count": 62,
   "id": "6bf1fc67",
   "metadata": {
    "scrolled": false
   },
   "outputs": [
    {
     "name": "stdout",
     "output_type": "stream",
     "text": [
      "Training Score : 0.8248 \n",
      "\n",
      "Accuracy : 0.8211 \n",
      "\n"
     ]
    },
    {
     "data": {
      "image/png": "[encoded data removed]",
      "text/plain": [
       "<Figure size 432x288 with 2 Axes>"
      ]
     },
     "metadata": {
      "needs_background": "light"
     },
     "output_type": "display_data"
    },
    {
     "name": "stdout",
     "output_type": "stream",
     "text": [
      "Precision Score : 0.8247 \n",
      "\n",
      "Recall Score : 0.9412 \n",
      "\n",
      "Classification Report :  \n",
      "               precision    recall  f1-score   support\n",
      "\n",
      "           0       0.81      0.55      0.66        38\n",
      "           1       0.82      0.94      0.88        85\n",
      "\n",
      "    accuracy                           0.82       123\n",
      "   macro avg       0.82      0.75      0.77       123\n",
      "weighted avg       0.82      0.82      0.81       123\n",
      " \n",
      "\n",
      "ROC_AUC Score : 0.7469 \n",
      "\n",
      "ROC_AUC Curve :\n",
      "\n"
     ]
    },
    {
     "data": {
      "image/png": "[encoded data removed]",
      "text/plain": [
       "<Figure size 432x288 with 1 Axes>"
      ]
     },
     "metadata": {
      "needs_background": "light"
     },
     "output_type": "display_data"
    }
   ],
   "source": [
    "run_Decision_tree(X_train,y_train,X_test,y_test)"
   ]
  },
  {
   "cell_type": "markdown",
   "id": "7dd31104",
   "metadata": {},
   "source": [
    "## RF Classifier"
   ]
  },
  {
   "cell_type": "code",
   "execution_count": 63,
   "id": "b7df48b3",
   "metadata": {
    "scrolled": false
   },
   "outputs": [
    {
     "name": "stdout",
     "output_type": "stream",
     "text": [
      "Training Score : 0.8065 \n",
      "\n",
      "Accuracy : 0.8537 \n",
      "\n"
     ]
    },
    {
     "data": {
      "image/png": "[encoded data removed]",
      "text/plain": [
       "<Figure size 432x288 with 2 Axes>"
      ]
     },
     "metadata": {
      "needs_background": "light"
     },
     "output_type": "display_data"
    },
    {
     "name": "stdout",
     "output_type": "stream",
     "text": [
      "Precision Score : 0.8317 \n",
      "\n",
      "Recall Score : 0.9882\n",
      "Classification Report :  \n",
      "               precision    recall  f1-score   support\n",
      "\n",
      "           0       0.95      0.55      0.70        38\n",
      "           1       0.83      0.99      0.90        85\n",
      "\n",
      "    accuracy                           0.85       123\n",
      "   macro avg       0.89      0.77      0.80       123\n",
      "weighted avg       0.87      0.85      0.84       123\n",
      " \n",
      "\n",
      "ROC_AUC Score : 0.7704 \n",
      "\n",
      "ROC_AUC Curve :\n",
      "\n"
     ]
    },
    {
     "data": {
      "image/png": "[encoded data removed]",
      "text/plain": [
       "<Figure size 432x288 with 1 Axes>"
      ]
     },
     "metadata": {
      "needs_background": "light"
     },
     "output_type": "display_data"
    }
   ],
   "source": [
    "run_Random_forest(X_train,y_train,X_test,y_test)"
   ]
  },
  {
   "cell_type": "markdown",
   "id": "169629dd",
   "metadata": {},
   "source": [
    "## Gradient Boosting Classifier"
   ]
  },
  {
   "cell_type": "code",
   "execution_count": 64,
   "id": "dfa5cfad",
   "metadata": {
    "scrolled": false
   },
   "outputs": [
    {
     "name": "stdout",
     "output_type": "stream",
     "text": [
      "Training Score : 0.9002 \n",
      "\n",
      "Accuracy : 0.7967 \n",
      "\n"
     ]
    },
    {
     "data": {
      "image/png": "[encoded data removed]",
      "text/plain": [
       "<Figure size 432x288 with 2 Axes>"
      ]
     },
     "metadata": {
      "needs_background": "light"
     },
     "output_type": "display_data"
    },
    {
     "name": "stdout",
     "output_type": "stream",
     "text": [
      "Precision Score : 0.8125 \n",
      "\n",
      "Recall Score : 0.9176 \n",
      "\n",
      "Classification Report :  \n",
      "               precision    recall  f1-score   support\n",
      "\n",
      "           0       0.74      0.53      0.62        38\n",
      "           1       0.81      0.92      0.86        85\n",
      "\n",
      "    accuracy                           0.80       123\n",
      "   macro avg       0.78      0.72      0.74       123\n",
      "weighted avg       0.79      0.80      0.79       123\n",
      " \n",
      "\n",
      "ROC_AUC Score : 0.722 \n",
      "\n",
      "ROC_AUC Curve :\n",
      "\n",
      "Wall time: 955 ms\n"
     ]
    },
    {
     "data": {
      "image/png": "[encoded data removed]",
      "text/plain": [
       "<Figure size 432x288 with 1 Axes>"
      ]
     },
     "metadata": {
      "needs_background": "light"
     },
     "output_type": "display_data"
    }
   ],
   "source": [
    "%%time\n",
    "run_gradient_b(X_train,y_train,X_test,y_test)"
   ]
  },
  {
   "cell_type": "markdown",
   "id": "e326b5fc",
   "metadata": {},
   "source": [
    "## Adaboost Classifier"
   ]
  },
  {
   "cell_type": "code",
   "execution_count": 65,
   "id": "1e8464ee",
   "metadata": {
    "scrolled": false
   },
   "outputs": [
    {
     "name": "stdout",
     "output_type": "stream",
     "text": [
      "Training Score : 0.8228 \n",
      "\n",
      "Accuracy : 0.8293 \n",
      "\n"
     ]
    },
    {
     "data": {
      "image/png": "[encoded data removed]",
      "text/plain": [
       "<Figure size 432x288 with 2 Axes>"
      ]
     },
     "metadata": {
      "needs_background": "light"
     },
     "output_type": "display_data"
    },
    {
     "name": "stdout",
     "output_type": "stream",
     "text": [
      "Precision Score : 0.8333 \n",
      "\n",
      "Recall Score : 0.9412 \n",
      "\n",
      "Classification Report :  \n",
      "               precision    recall  f1-score   support\n",
      "\n",
      "           0       0.81      0.58      0.68        38\n",
      "           1       0.83      0.94      0.88        85\n",
      "\n",
      "    accuracy                           0.83       123\n",
      "   macro avg       0.82      0.76      0.78       123\n",
      "weighted avg       0.83      0.83      0.82       123\n",
      " \n",
      "\n",
      "ROC_AUC Score : 0.7601 \n",
      "\n",
      "ROC_AUC Curve :\n",
      "\n"
     ]
    },
    {
     "data": {
      "image/png": "[encoded data removed]",
      "text/plain": [
       "<Figure size 432x288 with 1 Axes>"
      ]
     },
     "metadata": {
      "needs_background": "light"
     },
     "output_type": "display_data"
    }
   ],
   "source": [
    "run_adaboost(X_train,y_train,X_test,y_test)"
   ]
  },
  {
   "cell_type": "markdown",
   "id": "5410a067",
   "metadata": {},
   "source": [
    "## XGB Classifier"
   ]
  },
  {
   "cell_type": "code",
   "execution_count": 66,
   "id": "4d4e7ab4",
   "metadata": {
    "scrolled": false
   },
   "outputs": [
    {
     "name": "stdout",
     "output_type": "stream",
     "text": [
      "Training Score : 1.0 \n",
      "\n",
      "Accuracy : 0.813 \n",
      "\n"
     ]
    },
    {
     "data": {
      "image/png": "[encoded data removed]",
      "text/plain": [
       "<Figure size 432x288 with 2 Axes>"
      ]
     },
     "metadata": {
      "needs_background": "light"
     },
     "output_type": "display_data"
    },
    {
     "name": "stdout",
     "output_type": "stream",
     "text": [
      "Precision Score : 0.8605 \n",
      " \n",
      "\n",
      "Recall Score : 0.8706 \n",
      "\n",
      "Classification Report :  \n",
      "               precision    recall  f1-score   support\n",
      "\n",
      "           0       0.70      0.68      0.69        38\n",
      "           1       0.86      0.87      0.87        85\n",
      "\n",
      "    accuracy                           0.81       123\n",
      "   macro avg       0.78      0.78      0.78       123\n",
      "weighted avg       0.81      0.81      0.81       123\n",
      " \n",
      "\n",
      "ROC_AUC Score : 0.7774 \n",
      "\n",
      "ROC_AUC Curve :\n",
      "\n",
      "Wall time: 921 ms\n"
     ]
    },
    {
     "data": {
      "image/png": "[encoded data removed]",
      "text/plain": [
       "<Figure size 432x288 with 1 Axes>"
      ]
     },
     "metadata": {
      "needs_background": "light"
     },
     "output_type": "display_data"
    }
   ],
   "source": [
    "%%time\n",
    "run_xgb(X_train,y_train,X_test,y_test)"
   ]
  },
  {
   "cell_type": "markdown",
   "id": "ccf934fc",
   "metadata": {},
   "source": [
    "## SVC Classifier"
   ]
  },
  {
   "cell_type": "code",
   "execution_count": 67,
   "id": "b2ba7880",
   "metadata": {
    "scrolled": false
   },
   "outputs": [
    {
     "name": "stdout",
     "output_type": "stream",
     "text": [
      "Training Score : 0.6904 \n",
      "\n",
      "Accuracy : 0.6911 \n",
      "\n"
     ]
    },
    {
     "data": {
      "image/png": "[encoded data removed]",
      "text/plain": [
       "<Figure size 432x288 with 2 Axes>"
      ]
     },
     "metadata": {
      "needs_background": "light"
     },
     "output_type": "display_data"
    },
    {
     "name": "stdout",
     "output_type": "stream",
     "text": [
      "Precision Score : 0.6911 \n",
      "\n",
      "Recall Score : 1.0 \n",
      "\n",
      "Classification Report :  \n",
      "               precision    recall  f1-score   support\n",
      "\n",
      "           0       0.00      0.00      0.00        38\n",
      "           1       0.69      1.00      0.82        85\n",
      "\n",
      "    accuracy                           0.69       123\n",
      "   macro avg       0.35      0.50      0.41       123\n",
      "weighted avg       0.48      0.69      0.56       123\n",
      " \n",
      "\n",
      "ROC_AUC Score : 0.5 \n",
      "\n",
      "ROC_AUC Curve :\n",
      "\n"
     ]
    },
    {
     "data": {
      "image/png": "[encoded data removed]",
      "text/plain": [
       "<Figure size 432x288 with 1 Axes>"
      ]
     },
     "metadata": {
      "needs_background": "light"
     },
     "output_type": "display_data"
    }
   ],
   "source": [
    "run_SVC(X_train,y_train,X_test,y_test)"
   ]
  },
  {
   "cell_type": "markdown",
   "id": "d39a78c6",
   "metadata": {},
   "source": [
    "## KNN Classifier"
   ]
  },
  {
   "cell_type": "code",
   "execution_count": 68,
   "id": "efd140ee",
   "metadata": {
    "scrolled": false
   },
   "outputs": [
    {
     "name": "stdout",
     "output_type": "stream",
     "text": [
      "Training Score : 0.7149 \n",
      "\n",
      "Accuracy : 0.6504 \n",
      "\n"
     ]
    },
    {
     "data": {
      "image/png": "[encoded data removed]",
      "text/plain": [
       "<Figure size 432x288 with 2 Axes>"
      ]
     },
     "metadata": {
      "needs_background": "light"
     },
     "output_type": "display_data"
    },
    {
     "name": "stdout",
     "output_type": "stream",
     "text": [
      "Precision Score : 0.7188 \n",
      " \n",
      "\n",
      "Recall Score : 0.8118 \n",
      "\n",
      "Classification Report :  \n",
      "               precision    recall  f1-score   support\n",
      "\n",
      "           0       0.41      0.29      0.34        38\n",
      "           1       0.72      0.81      0.76        85\n",
      "\n",
      "    accuracy                           0.65       123\n",
      "   macro avg       0.56      0.55      0.55       123\n",
      "weighted avg       0.62      0.65      0.63       123\n",
      " \n",
      "\n",
      "ROC_AUC Score : 0.5506 \n",
      "\n",
      "ROC_AUC Curve :\n",
      "\n"
     ]
    },
    {
     "data": {
      "image/png": "[encoded data removed]",
      "text/plain": [
       "<Figure size 432x288 with 1 Axes>"
      ]
     },
     "metadata": {
      "needs_background": "light"
     },
     "output_type": "display_data"
    }
   ],
   "source": [
    "run_knn(X_train,y_train,X_test,y_test)"
   ]
  },
  {
   "cell_type": "markdown",
   "id": "8f3debef",
   "metadata": {},
   "source": [
    "### \n",
    "For above Model Building||Model Training||Model Testing part we use our cleaned  but imbalanced data;\n",
    "among all the Classifiers, we can say that XGB Classifier and Random Forest Classifier gives us best Accuracy,\n",
    "Precision and Recall value (Since our data is imbalanced we can't consider only 'Accuracy',we have to check precision,recall and f1 score)"
   ]
  },
  {
   "cell_type": "markdown",
   "id": "1ba379c8",
   "metadata": {},
   "source": [
    "# Now we use SMOTE technique to handle Imbalance data"
   ]
  },
  {
   "cell_type": "code",
   "execution_count": 69,
   "id": "58371c30",
   "metadata": {},
   "outputs": [
    {
     "data": {
      "text/html": [
       "<div>\n",
       "<style scoped>\n",
       "    .dataframe tbody tr th:only-of-type {\n",
       "        vertical-align: middle;\n",
       "    }\n",
       "\n",
       "    .dataframe tbody tr th {\n",
       "        vertical-align: top;\n",
       "    }\n",
       "\n",
       "    .dataframe thead th {\n",
       "        text-align: right;\n",
       "    }\n",
       "</style>\n",
       "<table border=\"1\" class=\"dataframe\">\n",
       "  <thead>\n",
       "    <tr style=\"text-align: right;\">\n",
       "      <th></th>\n",
       "      <th>Gender</th>\n",
       "      <th>Married</th>\n",
       "      <th>Dependents</th>\n",
       "      <th>Education</th>\n",
       "      <th>Self_Employed</th>\n",
       "      <th>ApplicantIncome</th>\n",
       "      <th>CoapplicantIncome</th>\n",
       "      <th>LoanAmount</th>\n",
       "      <th>Loan_Amount_Term</th>\n",
       "      <th>Credit_History</th>\n",
       "      <th>Property_Area</th>\n",
       "      <th>Loan_Status</th>\n",
       "    </tr>\n",
       "  </thead>\n",
       "  <tbody>\n",
       "    <tr>\n",
       "      <th>0</th>\n",
       "      <td>1</td>\n",
       "      <td>0</td>\n",
       "      <td>0</td>\n",
       "      <td>0</td>\n",
       "      <td>0</td>\n",
       "      <td>5849</td>\n",
       "      <td>0</td>\n",
       "      <td>128</td>\n",
       "      <td>360</td>\n",
       "      <td>1</td>\n",
       "      <td>2</td>\n",
       "      <td>1</td>\n",
       "    </tr>\n",
       "    <tr>\n",
       "      <th>1</th>\n",
       "      <td>1</td>\n",
       "      <td>1</td>\n",
       "      <td>1</td>\n",
       "      <td>0</td>\n",
       "      <td>0</td>\n",
       "      <td>4583</td>\n",
       "      <td>1508</td>\n",
       "      <td>128</td>\n",
       "      <td>360</td>\n",
       "      <td>1</td>\n",
       "      <td>0</td>\n",
       "      <td>0</td>\n",
       "    </tr>\n",
       "    <tr>\n",
       "      <th>2</th>\n",
       "      <td>1</td>\n",
       "      <td>1</td>\n",
       "      <td>0</td>\n",
       "      <td>0</td>\n",
       "      <td>1</td>\n",
       "      <td>3000</td>\n",
       "      <td>0</td>\n",
       "      <td>66</td>\n",
       "      <td>360</td>\n",
       "      <td>1</td>\n",
       "      <td>2</td>\n",
       "      <td>1</td>\n",
       "    </tr>\n",
       "    <tr>\n",
       "      <th>3</th>\n",
       "      <td>1</td>\n",
       "      <td>1</td>\n",
       "      <td>0</td>\n",
       "      <td>1</td>\n",
       "      <td>0</td>\n",
       "      <td>2583</td>\n",
       "      <td>2358</td>\n",
       "      <td>120</td>\n",
       "      <td>360</td>\n",
       "      <td>1</td>\n",
       "      <td>2</td>\n",
       "      <td>1</td>\n",
       "    </tr>\n",
       "    <tr>\n",
       "      <th>4</th>\n",
       "      <td>1</td>\n",
       "      <td>0</td>\n",
       "      <td>0</td>\n",
       "      <td>0</td>\n",
       "      <td>0</td>\n",
       "      <td>6000</td>\n",
       "      <td>0</td>\n",
       "      <td>141</td>\n",
       "      <td>360</td>\n",
       "      <td>1</td>\n",
       "      <td>2</td>\n",
       "      <td>1</td>\n",
       "    </tr>\n",
       "  </tbody>\n",
       "</table>\n",
       "</div>"
      ],
      "text/plain": [
       "   Gender  Married  Dependents  Education  Self_Employed  ApplicantIncome  \\\n",
       "0       1        0           0          0              0             5849   \n",
       "1       1        1           1          0              0             4583   \n",
       "2       1        1           0          0              1             3000   \n",
       "3       1        1           0          1              0             2583   \n",
       "4       1        0           0          0              0             6000   \n",
       "\n",
       "   CoapplicantIncome  LoanAmount  Loan_Amount_Term  Credit_History  \\\n",
       "0                  0         128               360               1   \n",
       "1               1508         128               360               1   \n",
       "2                  0          66               360               1   \n",
       "3               2358         120               360               1   \n",
       "4                  0         141               360               1   \n",
       "\n",
       "   Property_Area  Loan_Status  \n",
       "0              2            1  \n",
       "1              0            0  \n",
       "2              2            1  \n",
       "3              2            1  \n",
       "4              2            1  "
      ]
     },
     "execution_count": 69,
     "metadata": {},
     "output_type": "execute_result"
    }
   ],
   "source": [
    "home_data_copy.head()"
   ]
  },
  {
   "cell_type": "code",
   "execution_count": 70,
   "id": "97901c31",
   "metadata": {},
   "outputs": [],
   "source": [
    "#OverSampling minority class by SMOTE\n",
    "smote = SMOTE(sampling_strategy='minority')\n",
    "X_smote,y_smote=smote.fit_resample(X,y)"
   ]
  },
  {
   "cell_type": "code",
   "execution_count": 71,
   "id": "f2431c44",
   "metadata": {
    "scrolled": false
   },
   "outputs": [
    {
     "data": {
      "image/png": "[encoded data removed]",
      "text/plain": [
       "<Figure size 432x288 with 1 Axes>"
      ]
     },
     "metadata": {
      "needs_background": "light"
     },
     "output_type": "display_data"
    },
    {
     "data": {
      "image/png": "[encoded data removed]",
      "text/plain": [
       "<Figure size 432x288 with 1 Axes>"
      ]
     },
     "metadata": {
      "needs_background": "light"
     },
     "output_type": "display_data"
    },
    {
     "name": "stdout",
     "output_type": "stream",
     "text": [
      "Data is balanced now\n"
     ]
    }
   ],
   "source": [
    "#Before balancing\n",
    "sns.countplot(data=home_data_copy,x='Loan_Status')\n",
    "plt.title('Imalanced Data')\n",
    "plt.show()\n",
    "\n",
    "#After using SMOTE\n",
    "sns.countplot(data=y_smote,x='Loan_Status')\n",
    "plt.title('After Using SMote')\n",
    "plt.show()\n",
    "print('Data is balanced now')"
   ]
  },
  {
   "cell_type": "code",
   "execution_count": 72,
   "id": "b217f6ac",
   "metadata": {},
   "outputs": [],
   "source": [
    "X_train,X_test,y_train,y_test = train_test_split(X_smote,y_smote,random_state=42,stratify=y_smote,test_size=0.20)"
   ]
  },
  {
   "cell_type": "code",
   "execution_count": 73,
   "id": "0081d039",
   "metadata": {},
   "outputs": [
    {
     "name": "stdout",
     "output_type": "stream",
     "text": [
      "(675, 11)\n",
      "(675, 1)\n",
      "(169, 11)\n",
      "(169, 1)\n"
     ]
    }
   ],
   "source": [
    "print(X_train.shape)\n",
    "print(y_train.shape)\n",
    "print(X_test.shape)\n",
    "print(y_test.shape)"
   ]
  },
  {
   "cell_type": "code",
   "execution_count": 74,
   "id": "b546a800",
   "metadata": {},
   "outputs": [
    {
     "data": {
      "image/png": "[encoded data removed]",
      "text/plain": [
       "<Figure size 432x288 with 1 Axes>"
      ]
     },
     "metadata": {},
     "output_type": "display_data"
    },
    {
     "data": {
      "image/png": "[encoded data removed]",
      "text/plain": [
       "<Figure size 432x288 with 1 Axes>"
      ]
     },
     "metadata": {},
     "output_type": "display_data"
    }
   ],
   "source": [
    "plt.pie(x = y_train['Loan_Status'].value_counts(),\n",
    "        labels=['Yes','No'],autopct='%1.0f%%', labeldistance=1.2,explode=[0.02,0.02],shadow=True);\n",
    "plt.show()\n",
    "plt.pie(x = y_test['Loan_Status'].value_counts(),\n",
    "        labels=['Yes','No'],autopct='%1.0f%%', labeldistance=1.2,explode=[0.02,0.02],shadow=True)\n",
    "plt.show()"
   ]
  },
  {
   "cell_type": "markdown",
   "id": "d0706bbd",
   "metadata": {},
   "source": [
    "In above piecharts we can clearly see that our training and testing data has 50% of positive and 50% of negavtive values"
   ]
  },
  {
   "cell_type": "markdown",
   "id": "4dfff2e7",
   "metadata": {},
   "source": [
    "# LogisticRegression"
   ]
  },
  {
   "cell_type": "code",
   "execution_count": 75,
   "id": "bb44abcb",
   "metadata": {
    "scrolled": false
   },
   "outputs": [
    {
     "name": "stdout",
     "output_type": "stream",
     "text": [
      "Training Score : 0.7852 \n",
      "\n",
      "Accuracy : 0.7811 \n",
      "\n"
     ]
    },
    {
     "data": {
      "image/png": "[encoded data removed]",
      "text/plain": [
       "<Figure size 432x288 with 2 Axes>"
      ]
     },
     "metadata": {
      "needs_background": "light"
     },
     "output_type": "display_data"
    },
    {
     "name": "stdout",
     "output_type": "stream",
     "text": [
      "Precision Score : 0.7156 \n",
      "\n",
      "Recall Score : 0.9286 \n",
      "\n",
      "Classification Report :  \n",
      "               precision    recall  f1-score   support\n",
      "\n",
      "           0       0.90      0.64      0.74        85\n",
      "           1       0.72      0.93      0.81        84\n",
      "\n",
      "    accuracy                           0.78       169\n",
      "   macro avg       0.81      0.78      0.78       169\n",
      "weighted avg       0.81      0.78      0.78       169\n",
      " \n",
      "\n",
      "ROC_AUC Score : 0.7819 \n",
      "\n",
      "ROC_AUC Curve :\n",
      "\n"
     ]
    },
    {
     "data": {
      "image/png": "[encoded data removed]",
      "text/plain": [
       "<Figure size 432x288 with 1 Axes>"
      ]
     },
     "metadata": {
      "needs_background": "light"
     },
     "output_type": "display_data"
    }
   ],
   "source": [
    "run_Logistic(X_train,y_train,X_test,y_test)"
   ]
  },
  {
   "cell_type": "markdown",
   "id": "ad0267bb",
   "metadata": {},
   "source": [
    "# DecisionTreeClassifier"
   ]
  },
  {
   "cell_type": "code",
   "execution_count": 76,
   "id": "3972ce9d",
   "metadata": {
    "scrolled": false
   },
   "outputs": [
    {
     "name": "stdout",
     "output_type": "stream",
     "text": [
      "Training Score : 0.8474 \n",
      "\n",
      "Accuracy : 0.7751 \n",
      "\n"
     ]
    },
    {
     "data": {
      "image/png": "[encoded data removed]",
      "text/plain": [
       "<Figure size 432x288 with 2 Axes>"
      ]
     },
     "metadata": {
      "needs_background": "light"
     },
     "output_type": "display_data"
    },
    {
     "name": "stdout",
     "output_type": "stream",
     "text": [
      "Precision Score : 0.7091 \n",
      "\n",
      "Recall Score : 0.9286 \n",
      "\n",
      "Classification Report :  \n",
      "               precision    recall  f1-score   support\n",
      "\n",
      "           0       0.90      0.62      0.74        85\n",
      "           1       0.71      0.93      0.80        84\n",
      "\n",
      "    accuracy                           0.78       169\n",
      "   macro avg       0.80      0.78      0.77       169\n",
      "weighted avg       0.80      0.78      0.77       169\n",
      " \n",
      "\n",
      "ROC_AUC Score : 0.7761 \n",
      "\n",
      "ROC_AUC Curve :\n",
      "\n"
     ]
    },
    {
     "data": {
      "image/png": "[encoded data removed]",
      "text/plain": [
       "<Figure size 432x288 with 1 Axes>"
      ]
     },
     "metadata": {
      "needs_background": "light"
     },
     "output_type": "display_data"
    }
   ],
   "source": [
    "run_Decision_tree(X_train,y_train,X_test,y_test)"
   ]
  },
  {
   "cell_type": "markdown",
   "id": "a8461e32",
   "metadata": {},
   "source": [
    "# RandomForestClassifier"
   ]
  },
  {
   "cell_type": "code",
   "execution_count": 77,
   "id": "98199aa2",
   "metadata": {
    "scrolled": false
   },
   "outputs": [
    {
     "name": "stdout",
     "output_type": "stream",
     "text": [
      "Training Score : 0.843 \n",
      "\n",
      "Accuracy : 0.7988 \n",
      "\n"
     ]
    },
    {
     "data": {
      "image/png": "[encoded data removed]",
      "text/plain": [
       "<Figure size 432x288 with 2 Axes>"
      ]
     },
     "metadata": {
      "needs_background": "light"
     },
     "output_type": "display_data"
    },
    {
     "name": "stdout",
     "output_type": "stream",
     "text": [
      "Precision Score : 0.7193 \n",
      "\n",
      "Recall Score : 0.9762\n",
      "Classification Report :  \n",
      "               precision    recall  f1-score   support\n",
      "\n",
      "           0       0.96      0.62      0.76        85\n",
      "           1       0.72      0.98      0.83        84\n",
      "\n",
      "    accuracy                           0.80       169\n",
      "   macro avg       0.84      0.80      0.79       169\n",
      "weighted avg       0.84      0.80      0.79       169\n",
      " \n",
      "\n",
      "ROC_AUC Score : 0.7999 \n",
      "\n",
      "ROC_AUC Curve :\n",
      "\n"
     ]
    },
    {
     "data": {
      "image/png": "[encoded data removed]",
      "text/plain": [
       "<Figure size 432x288 with 1 Axes>"
      ]
     },
     "metadata": {
      "needs_background": "light"
     },
     "output_type": "display_data"
    }
   ],
   "source": [
    "run_Random_forest(X_train,y_train,X_test,y_test)"
   ]
  },
  {
   "cell_type": "markdown",
   "id": "fabb9951",
   "metadata": {},
   "source": [
    "# GradientBoostingClassifier"
   ]
  },
  {
   "cell_type": "code",
   "execution_count": 78,
   "id": "0a29e039",
   "metadata": {
    "scrolled": false
   },
   "outputs": [
    {
     "name": "stdout",
     "output_type": "stream",
     "text": [
      "Training Score : 0.9037 \n",
      "\n",
      "Accuracy : 0.7988 \n",
      "\n"
     ]
    },
    {
     "data": {
      "image/png": "[encoded data removed]",
      "text/plain": [
       "<Figure size 432x288 with 2 Axes>"
      ]
     },
     "metadata": {
      "needs_background": "light"
     },
     "output_type": "display_data"
    },
    {
     "name": "stdout",
     "output_type": "stream",
     "text": [
      "Precision Score : 0.766 \n",
      "\n",
      "Recall Score : 0.8571 \n",
      "\n",
      "Classification Report :  \n",
      "               precision    recall  f1-score   support\n",
      "\n",
      "           0       0.84      0.74      0.79        85\n",
      "           1       0.77      0.86      0.81        84\n",
      "\n",
      "    accuracy                           0.80       169\n",
      "   macro avg       0.80      0.80      0.80       169\n",
      "weighted avg       0.80      0.80      0.80       169\n",
      " \n",
      "\n",
      "ROC_AUC Score : 0.7992 \n",
      "\n",
      "ROC_AUC Curve :\n",
      "\n",
      "Wall time: 974 ms\n"
     ]
    },
    {
     "data": {
      "image/png": "[encoded data removed]",
      "text/plain": [
       "<Figure size 432x288 with 1 Axes>"
      ]
     },
     "metadata": {
      "needs_background": "light"
     },
     "output_type": "display_data"
    }
   ],
   "source": [
    "%%time\n",
    "run_gradient_b(X_train,y_train,X_test,y_test)"
   ]
  },
  {
   "cell_type": "markdown",
   "id": "3151006d",
   "metadata": {},
   "source": [
    "# AdaBoostClassifier"
   ]
  },
  {
   "cell_type": "code",
   "execution_count": 79,
   "id": "ad3c2e38",
   "metadata": {
    "scrolled": false
   },
   "outputs": [
    {
     "name": "stdout",
     "output_type": "stream",
     "text": [
      "Training Score : 0.8622 \n",
      "\n",
      "Accuracy : 0.8284 \n",
      "\n"
     ]
    },
    {
     "data": {
      "image/png": "[encoded data removed]",
      "text/plain": [
       "<Figure size 432x288 with 2 Axes>"
      ]
     },
     "metadata": {
      "needs_background": "light"
     },
     "output_type": "display_data"
    },
    {
     "name": "stdout",
     "output_type": "stream",
     "text": [
      "Precision Score : 0.7619 \n",
      "\n",
      "Recall Score : 0.9524 \n",
      "\n",
      "Classification Report :  \n",
      "               precision    recall  f1-score   support\n",
      "\n",
      "           0       0.94      0.71      0.81        85\n",
      "           1       0.76      0.95      0.85        84\n",
      "\n",
      "    accuracy                           0.83       169\n",
      "   macro avg       0.85      0.83      0.83       169\n",
      "weighted avg       0.85      0.83      0.83       169\n",
      " \n",
      "\n",
      "ROC_AUC Score : 0.8291 \n",
      "\n",
      "ROC_AUC Curve :\n",
      "\n"
     ]
    },
    {
     "data": {
      "image/png": "[encoded data removed]",
      "text/plain": [
       "<Figure size 432x288 with 1 Axes>"
      ]
     },
     "metadata": {
      "needs_background": "light"
     },
     "output_type": "display_data"
    }
   ],
   "source": [
    "run_adaboost(X_train,y_train,X_test,y_test)"
   ]
  },
  {
   "cell_type": "markdown",
   "id": "ba5401b0",
   "metadata": {},
   "source": [
    "# XGBClassifier"
   ]
  },
  {
   "cell_type": "code",
   "execution_count": 80,
   "id": "18456563",
   "metadata": {},
   "outputs": [
    {
     "name": "stdout",
     "output_type": "stream",
     "text": [
      "Training Score : 1.0 \n",
      "\n",
      "Accuracy : 0.8343 \n",
      "\n"
     ]
    },
    {
     "data": {
      "image/png": "[encoded data removed]",
      "text/plain": [
       "<Figure size 432x288 with 2 Axes>"
      ]
     },
     "metadata": {
      "needs_background": "light"
     },
     "output_type": "display_data"
    },
    {
     "name": "stdout",
     "output_type": "stream",
     "text": [
      "Precision Score : 0.8043 \n",
      " \n",
      "\n",
      "Recall Score : 0.881 \n",
      "\n",
      "Classification Report :  \n",
      "               precision    recall  f1-score   support\n",
      "\n",
      "           0       0.87      0.79      0.83        85\n",
      "           1       0.80      0.88      0.84        84\n",
      "\n",
      "    accuracy                           0.83       169\n",
      "   macro avg       0.84      0.83      0.83       169\n",
      "weighted avg       0.84      0.83      0.83       169\n",
      " \n",
      "\n",
      "ROC_AUC Score : 0.8346 \n",
      "\n",
      "ROC_AUC Curve :\n",
      "\n",
      "Wall time: 934 ms\n"
     ]
    },
    {
     "data": {
      "image/png": "[encoded data removed]",
      "text/plain": [
       "<Figure size 432x288 with 1 Axes>"
      ]
     },
     "metadata": {
      "needs_background": "light"
     },
     "output_type": "display_data"
    }
   ],
   "source": [
    "%%time\n",
    "run_xgb(X_train,y_train,X_test,y_test)"
   ]
  },
  {
   "cell_type": "markdown",
   "id": "2b679f7e",
   "metadata": {},
   "source": [
    "# SVC"
   ]
  },
  {
   "cell_type": "code",
   "execution_count": 81,
   "id": "4db9bbe6",
   "metadata": {
    "scrolled": false
   },
   "outputs": [
    {
     "name": "stdout",
     "output_type": "stream",
     "text": [
      "Training Score : 0.56 \n",
      "\n",
      "Accuracy : 0.5325 \n",
      "\n"
     ]
    },
    {
     "data": {
      "image/png": "[encoded data removed]",
      "text/plain": [
       "<Figure size 432x288 with 2 Axes>"
      ]
     },
     "metadata": {
      "needs_background": "light"
     },
     "output_type": "display_data"
    },
    {
     "name": "stdout",
     "output_type": "stream",
     "text": [
      "Precision Score : 0.5161 \n",
      "\n",
      "Recall Score : 0.9524 \n",
      "\n",
      "Classification Report :  \n",
      "               precision    recall  f1-score   support\n",
      "\n",
      "           0       0.71      0.12      0.20        85\n",
      "           1       0.52      0.95      0.67        84\n",
      "\n",
      "    accuracy                           0.53       169\n",
      "   macro avg       0.62      0.54      0.44       169\n",
      "weighted avg       0.62      0.53      0.43       169\n",
      " \n",
      "\n",
      "ROC_AUC Score : 0.535 \n",
      "\n",
      "ROC_AUC Curve :\n",
      "\n"
     ]
    },
    {
     "data": {
      "image/png": "[encoded data removed]",
      "text/plain": [
       "<Figure size 432x288 with 1 Axes>"
      ]
     },
     "metadata": {
      "needs_background": "light"
     },
     "output_type": "display_data"
    }
   ],
   "source": [
    "run_SVC(X_train,y_train,X_test,y_test)"
   ]
  },
  {
   "cell_type": "markdown",
   "id": "a7aaded9",
   "metadata": {},
   "source": [
    "# KNeighborsClassifier"
   ]
  },
  {
   "cell_type": "code",
   "execution_count": 82,
   "id": "fe6a264e",
   "metadata": {
    "scrolled": true
   },
   "outputs": [
    {
     "name": "stdout",
     "output_type": "stream",
     "text": [
      "Training Score : 0.7644 \n",
      "\n",
      "Accuracy : 0.7041 \n",
      "\n"
     ]
    },
    {
     "data": {
      "image/png": "[encoded data removed]",
      "text/plain": [
       "<Figure size 432x288 with 2 Axes>"
      ]
     },
     "metadata": {
      "needs_background": "light"
     },
     "output_type": "display_data"
    },
    {
     "name": "stdout",
     "output_type": "stream",
     "text": [
      "Precision Score : 0.7125 \n",
      " \n",
      "\n",
      "Recall Score : 0.6786 \n",
      "\n",
      "Classification Report :  \n",
      "               precision    recall  f1-score   support\n",
      "\n",
      "           0       0.70      0.73      0.71        85\n",
      "           1       0.71      0.68      0.70        84\n",
      "\n",
      "    accuracy                           0.70       169\n",
      "   macro avg       0.70      0.70      0.70       169\n",
      "weighted avg       0.70      0.70      0.70       169\n",
      " \n",
      "\n",
      "ROC_AUC Score : 0.704 \n",
      "\n",
      "ROC_AUC Curve :\n",
      "\n"
     ]
    },
    {
     "data": {
      "image/png": "[encoded data removed]",
      "text/plain": [
       "<Figure size 432x288 with 1 Axes>"
      ]
     },
     "metadata": {
      "needs_background": "light"
     },
     "output_type": "display_data"
    }
   ],
   "source": [
    "run_knn(X_train,y_train,X_test,y_test)"
   ]
  },
  {
   "cell_type": "markdown",
   "id": "078b2f34",
   "metadata": {},
   "source": [
    "#### Here we have checked accuracy after handling Imbalanced data"
   ]
  },
  {
   "cell_type": "markdown",
   "id": "650aa43d",
   "metadata": {},
   "source": [
    "#### By observing Accuracy,Precision,Recall,Roc_auc score we can say that XGB Classifier performs good"
   ]
  },
  {
   "cell_type": "markdown",
   "id": "16a7ffab",
   "metadata": {},
   "source": [
    "# Predictions On test Data By Using XGB_Classifier"
   ]
  },
  {
   "cell_type": "code",
   "execution_count": 83,
   "id": "975db49d",
   "metadata": {},
   "outputs": [],
   "source": [
    "test_data_=pd.read_csv('Test_Loan_Home.csv')"
   ]
  },
  {
   "cell_type": "code",
   "execution_count": 84,
   "id": "9080a40c",
   "metadata": {},
   "outputs": [],
   "source": [
    "test_data_.dropna(inplace=True)\n",
    "test_data_.drop_duplicates(inplace=True)"
   ]
  },
  {
   "cell_type": "code",
   "execution_count": 85,
   "id": "3d6b4044",
   "metadata": {},
   "outputs": [],
   "source": [
    "test_data_.reset_index(inplace=True,drop=True)"
   ]
  },
  {
   "cell_type": "code",
   "execution_count": 86,
   "id": "9c4c220d",
   "metadata": {},
   "outputs": [],
   "source": [
    "test_data = test_data_.drop('Loan_ID',axis=1)"
   ]
  },
  {
   "cell_type": "code",
   "execution_count": 87,
   "id": "fe239072",
   "metadata": {},
   "outputs": [],
   "source": [
    "test_data['Dependents'].replace('3+',3,inplace=True)"
   ]
  },
  {
   "cell_type": "code",
   "execution_count": 88,
   "id": "50dc3fb4",
   "metadata": {},
   "outputs": [
    {
     "data": {
      "text/html": [
       "<div>\n",
       "<style scoped>\n",
       "    .dataframe tbody tr th:only-of-type {\n",
       "        vertical-align: middle;\n",
       "    }\n",
       "\n",
       "    .dataframe tbody tr th {\n",
       "        vertical-align: top;\n",
       "    }\n",
       "\n",
       "    .dataframe thead th {\n",
       "        text-align: right;\n",
       "    }\n",
       "</style>\n",
       "<table border=\"1\" class=\"dataframe\">\n",
       "  <thead>\n",
       "    <tr style=\"text-align: right;\">\n",
       "      <th></th>\n",
       "      <th>Gender</th>\n",
       "      <th>Married</th>\n",
       "      <th>Dependents</th>\n",
       "      <th>Education</th>\n",
       "      <th>Self_Employed</th>\n",
       "      <th>ApplicantIncomeMonthly</th>\n",
       "      <th>CoapplicantIncomeMonthly</th>\n",
       "      <th>LoanAmountThousands</th>\n",
       "      <th>Loan_Amount_Term_Months</th>\n",
       "      <th>Credit_History</th>\n",
       "      <th>Property_Area</th>\n",
       "    </tr>\n",
       "  </thead>\n",
       "  <tbody>\n",
       "    <tr>\n",
       "      <th>0</th>\n",
       "      <td>Male</td>\n",
       "      <td>Yes</td>\n",
       "      <td>0</td>\n",
       "      <td>Graduate</td>\n",
       "      <td>No</td>\n",
       "      <td>5720</td>\n",
       "      <td>0</td>\n",
       "      <td>110.0</td>\n",
       "      <td>360.0</td>\n",
       "      <td>1.0</td>\n",
       "      <td>Urban</td>\n",
       "    </tr>\n",
       "    <tr>\n",
       "      <th>1</th>\n",
       "      <td>Male</td>\n",
       "      <td>Yes</td>\n",
       "      <td>1</td>\n",
       "      <td>Graduate</td>\n",
       "      <td>No</td>\n",
       "      <td>3076</td>\n",
       "      <td>1500</td>\n",
       "      <td>126.0</td>\n",
       "      <td>360.0</td>\n",
       "      <td>1.0</td>\n",
       "      <td>Urban</td>\n",
       "    </tr>\n",
       "    <tr>\n",
       "      <th>2</th>\n",
       "      <td>Male</td>\n",
       "      <td>Yes</td>\n",
       "      <td>2</td>\n",
       "      <td>Graduate</td>\n",
       "      <td>No</td>\n",
       "      <td>5000</td>\n",
       "      <td>1800</td>\n",
       "      <td>208.0</td>\n",
       "      <td>360.0</td>\n",
       "      <td>1.0</td>\n",
       "      <td>Urban</td>\n",
       "    </tr>\n",
       "    <tr>\n",
       "      <th>3</th>\n",
       "      <td>Male</td>\n",
       "      <td>No</td>\n",
       "      <td>0</td>\n",
       "      <td>Not Graduate</td>\n",
       "      <td>No</td>\n",
       "      <td>3276</td>\n",
       "      <td>0</td>\n",
       "      <td>78.0</td>\n",
       "      <td>360.0</td>\n",
       "      <td>1.0</td>\n",
       "      <td>Urban</td>\n",
       "    </tr>\n",
       "    <tr>\n",
       "      <th>4</th>\n",
       "      <td>Male</td>\n",
       "      <td>Yes</td>\n",
       "      <td>0</td>\n",
       "      <td>Not Graduate</td>\n",
       "      <td>Yes</td>\n",
       "      <td>2165</td>\n",
       "      <td>3422</td>\n",
       "      <td>152.0</td>\n",
       "      <td>360.0</td>\n",
       "      <td>1.0</td>\n",
       "      <td>Urban</td>\n",
       "    </tr>\n",
       "  </tbody>\n",
       "</table>\n",
       "</div>"
      ],
      "text/plain": [
       "  Gender Married Dependents     Education Self_Employed  \\\n",
       "0   Male     Yes          0      Graduate            No   \n",
       "1   Male     Yes          1      Graduate            No   \n",
       "2   Male     Yes          2      Graduate            No   \n",
       "3   Male      No          0  Not Graduate            No   \n",
       "4   Male     Yes          0  Not Graduate           Yes   \n",
       "\n",
       "   ApplicantIncomeMonthly  CoapplicantIncomeMonthly  LoanAmountThousands  \\\n",
       "0                    5720                         0                110.0   \n",
       "1                    3076                      1500                126.0   \n",
       "2                    5000                      1800                208.0   \n",
       "3                    3276                         0                 78.0   \n",
       "4                    2165                      3422                152.0   \n",
       "\n",
       "   Loan_Amount_Term_Months  Credit_History Property_Area  \n",
       "0                    360.0             1.0         Urban  \n",
       "1                    360.0             1.0         Urban  \n",
       "2                    360.0             1.0         Urban  \n",
       "3                    360.0             1.0         Urban  \n",
       "4                    360.0             1.0         Urban  "
      ]
     },
     "execution_count": 88,
     "metadata": {},
     "output_type": "execute_result"
    }
   ],
   "source": [
    "test_data.head()"
   ]
  },
  {
   "cell_type": "code",
   "execution_count": 89,
   "id": "70ecd0c1",
   "metadata": {},
   "outputs": [],
   "source": [
    "#Transforming Categorical features into numeric\n",
    "label_encoder = LabelEncoder()\n",
    "\n",
    "test_data['Gender']= label_encoder.fit_transform(test_data['Gender'])\n",
    "test_data['Married']= label_encoder.fit_transform(test_data['Married'])\n",
    "test_data['Education']= label_encoder.fit_transform(test_data['Education'])\n",
    "test_data['Self_Employed']= label_encoder.fit_transform(test_data['Self_Employed'])\n",
    "test_data['Property_Area']= label_encoder.fit_transform(test_data['Property_Area'])\n",
    "test_data=test_data.astype('int')"
   ]
  },
  {
   "cell_type": "code",
   "execution_count": 90,
   "id": "1eb0979e",
   "metadata": {},
   "outputs": [
    {
     "data": {
      "text/html": [
       "<div>\n",
       "<style scoped>\n",
       "    .dataframe tbody tr th:only-of-type {\n",
       "        vertical-align: middle;\n",
       "    }\n",
       "\n",
       "    .dataframe tbody tr th {\n",
       "        vertical-align: top;\n",
       "    }\n",
       "\n",
       "    .dataframe thead th {\n",
       "        text-align: right;\n",
       "    }\n",
       "</style>\n",
       "<table border=\"1\" class=\"dataframe\">\n",
       "  <thead>\n",
       "    <tr style=\"text-align: right;\">\n",
       "      <th></th>\n",
       "      <th>Gender</th>\n",
       "      <th>Married</th>\n",
       "      <th>Dependents</th>\n",
       "      <th>Education</th>\n",
       "      <th>Self_Employed</th>\n",
       "      <th>ApplicantIncomeMonthly</th>\n",
       "      <th>CoapplicantIncomeMonthly</th>\n",
       "      <th>LoanAmountThousands</th>\n",
       "      <th>Loan_Amount_Term_Months</th>\n",
       "      <th>Credit_History</th>\n",
       "      <th>Property_Area</th>\n",
       "    </tr>\n",
       "  </thead>\n",
       "  <tbody>\n",
       "    <tr>\n",
       "      <th>0</th>\n",
       "      <td>1</td>\n",
       "      <td>1</td>\n",
       "      <td>0</td>\n",
       "      <td>0</td>\n",
       "      <td>0</td>\n",
       "      <td>5720</td>\n",
       "      <td>0</td>\n",
       "      <td>110</td>\n",
       "      <td>360</td>\n",
       "      <td>1</td>\n",
       "      <td>2</td>\n",
       "    </tr>\n",
       "    <tr>\n",
       "      <th>1</th>\n",
       "      <td>1</td>\n",
       "      <td>1</td>\n",
       "      <td>1</td>\n",
       "      <td>0</td>\n",
       "      <td>0</td>\n",
       "      <td>3076</td>\n",
       "      <td>1500</td>\n",
       "      <td>126</td>\n",
       "      <td>360</td>\n",
       "      <td>1</td>\n",
       "      <td>2</td>\n",
       "    </tr>\n",
       "    <tr>\n",
       "      <th>2</th>\n",
       "      <td>1</td>\n",
       "      <td>1</td>\n",
       "      <td>2</td>\n",
       "      <td>0</td>\n",
       "      <td>0</td>\n",
       "      <td>5000</td>\n",
       "      <td>1800</td>\n",
       "      <td>208</td>\n",
       "      <td>360</td>\n",
       "      <td>1</td>\n",
       "      <td>2</td>\n",
       "    </tr>\n",
       "    <tr>\n",
       "      <th>3</th>\n",
       "      <td>1</td>\n",
       "      <td>0</td>\n",
       "      <td>0</td>\n",
       "      <td>1</td>\n",
       "      <td>0</td>\n",
       "      <td>3276</td>\n",
       "      <td>0</td>\n",
       "      <td>78</td>\n",
       "      <td>360</td>\n",
       "      <td>1</td>\n",
       "      <td>2</td>\n",
       "    </tr>\n",
       "    <tr>\n",
       "      <th>4</th>\n",
       "      <td>1</td>\n",
       "      <td>1</td>\n",
       "      <td>0</td>\n",
       "      <td>1</td>\n",
       "      <td>1</td>\n",
       "      <td>2165</td>\n",
       "      <td>3422</td>\n",
       "      <td>152</td>\n",
       "      <td>360</td>\n",
       "      <td>1</td>\n",
       "      <td>2</td>\n",
       "    </tr>\n",
       "  </tbody>\n",
       "</table>\n",
       "</div>"
      ],
      "text/plain": [
       "   Gender  Married  Dependents  Education  Self_Employed  \\\n",
       "0       1        1           0          0              0   \n",
       "1       1        1           1          0              0   \n",
       "2       1        1           2          0              0   \n",
       "3       1        0           0          1              0   \n",
       "4       1        1           0          1              1   \n",
       "\n",
       "   ApplicantIncomeMonthly  CoapplicantIncomeMonthly  LoanAmountThousands  \\\n",
       "0                    5720                         0                  110   \n",
       "1                    3076                      1500                  126   \n",
       "2                    5000                      1800                  208   \n",
       "3                    3276                         0                   78   \n",
       "4                    2165                      3422                  152   \n",
       "\n",
       "   Loan_Amount_Term_Months  Credit_History  Property_Area  \n",
       "0                      360               1              2  \n",
       "1                      360               1              2  \n",
       "2                      360               1              2  \n",
       "3                      360               1              2  \n",
       "4                      360               1              2  "
      ]
     },
     "execution_count": 90,
     "metadata": {},
     "output_type": "execute_result"
    }
   ],
   "source": [
    "test_data.head()"
   ]
  },
  {
   "cell_type": "code",
   "execution_count": 91,
   "id": "f94706d5",
   "metadata": {},
   "outputs": [],
   "source": [
    "test_data.rename(columns={'ApplicantIncomeMonthly':'ApplicantIncome','CoapplicantIncomeMonthly':'CoapplicantIncome',\n",
    "                          'LoanAmountThousands':'LoanAmount','Loan_Amount_Term_Months':'Loan_Amount_Term'},inplace=True)"
   ]
  },
  {
   "cell_type": "code",
   "execution_count": 92,
   "id": "2c54e4c5",
   "metadata": {},
   "outputs": [
    {
     "data": {
      "text/html": [
       "<div>\n",
       "<style scoped>\n",
       "    .dataframe tbody tr th:only-of-type {\n",
       "        vertical-align: middle;\n",
       "    }\n",
       "\n",
       "    .dataframe tbody tr th {\n",
       "        vertical-align: top;\n",
       "    }\n",
       "\n",
       "    .dataframe thead th {\n",
       "        text-align: right;\n",
       "    }\n",
       "</style>\n",
       "<table border=\"1\" class=\"dataframe\">\n",
       "  <thead>\n",
       "    <tr style=\"text-align: right;\">\n",
       "      <th></th>\n",
       "      <th>Gender</th>\n",
       "      <th>Married</th>\n",
       "      <th>Dependents</th>\n",
       "      <th>Education</th>\n",
       "      <th>Self_Employed</th>\n",
       "      <th>ApplicantIncome</th>\n",
       "      <th>CoapplicantIncome</th>\n",
       "      <th>LoanAmount</th>\n",
       "      <th>Loan_Amount_Term</th>\n",
       "      <th>Credit_History</th>\n",
       "      <th>Property_Area</th>\n",
       "    </tr>\n",
       "  </thead>\n",
       "  <tbody>\n",
       "    <tr>\n",
       "      <th>0</th>\n",
       "      <td>1</td>\n",
       "      <td>1</td>\n",
       "      <td>0</td>\n",
       "      <td>0</td>\n",
       "      <td>0</td>\n",
       "      <td>5720</td>\n",
       "      <td>0</td>\n",
       "      <td>110</td>\n",
       "      <td>360</td>\n",
       "      <td>1</td>\n",
       "      <td>2</td>\n",
       "    </tr>\n",
       "    <tr>\n",
       "      <th>1</th>\n",
       "      <td>1</td>\n",
       "      <td>1</td>\n",
       "      <td>1</td>\n",
       "      <td>0</td>\n",
       "      <td>0</td>\n",
       "      <td>3076</td>\n",
       "      <td>1500</td>\n",
       "      <td>126</td>\n",
       "      <td>360</td>\n",
       "      <td>1</td>\n",
       "      <td>2</td>\n",
       "    </tr>\n",
       "    <tr>\n",
       "      <th>2</th>\n",
       "      <td>1</td>\n",
       "      <td>1</td>\n",
       "      <td>2</td>\n",
       "      <td>0</td>\n",
       "      <td>0</td>\n",
       "      <td>5000</td>\n",
       "      <td>1800</td>\n",
       "      <td>208</td>\n",
       "      <td>360</td>\n",
       "      <td>1</td>\n",
       "      <td>2</td>\n",
       "    </tr>\n",
       "    <tr>\n",
       "      <th>3</th>\n",
       "      <td>1</td>\n",
       "      <td>0</td>\n",
       "      <td>0</td>\n",
       "      <td>1</td>\n",
       "      <td>0</td>\n",
       "      <td>3276</td>\n",
       "      <td>0</td>\n",
       "      <td>78</td>\n",
       "      <td>360</td>\n",
       "      <td>1</td>\n",
       "      <td>2</td>\n",
       "    </tr>\n",
       "    <tr>\n",
       "      <th>4</th>\n",
       "      <td>1</td>\n",
       "      <td>1</td>\n",
       "      <td>0</td>\n",
       "      <td>1</td>\n",
       "      <td>1</td>\n",
       "      <td>2165</td>\n",
       "      <td>3422</td>\n",
       "      <td>152</td>\n",
       "      <td>360</td>\n",
       "      <td>1</td>\n",
       "      <td>2</td>\n",
       "    </tr>\n",
       "  </tbody>\n",
       "</table>\n",
       "</div>"
      ],
      "text/plain": [
       "   Gender  Married  Dependents  Education  Self_Employed  ApplicantIncome  \\\n",
       "0       1        1           0          0              0             5720   \n",
       "1       1        1           1          0              0             3076   \n",
       "2       1        1           2          0              0             5000   \n",
       "3       1        0           0          1              0             3276   \n",
       "4       1        1           0          1              1             2165   \n",
       "\n",
       "   CoapplicantIncome  LoanAmount  Loan_Amount_Term  Credit_History  \\\n",
       "0                  0         110               360               1   \n",
       "1               1500         126               360               1   \n",
       "2               1800         208               360               1   \n",
       "3                  0          78               360               1   \n",
       "4               3422         152               360               1   \n",
       "\n",
       "   Property_Area  \n",
       "0              2  \n",
       "1              2  \n",
       "2              2  \n",
       "3              2  \n",
       "4              2  "
      ]
     },
     "execution_count": 92,
     "metadata": {},
     "output_type": "execute_result"
    }
   ],
   "source": [
    "test_data.head()"
   ]
  },
  {
   "cell_type": "code",
   "execution_count": 93,
   "id": "78fc9f6c",
   "metadata": {},
   "outputs": [
    {
     "data": {
      "text/html": [
       "<style>#sk-container-id-1 {color: black;background-color: white;}#sk-container-id-1 pre{padding: 0;}#sk-container-id-1 div.sk-toggleable {background-color: white;}#sk-container-id-1 label.sk-toggleable__label {cursor: pointer;display: block;width: 100%;margin-bottom: 0;padding: 0.3em;box-sizing: border-box;text-align: center;}#sk-container-id-1 label.sk-toggleable__label-arrow:before {content: \"▸\";float: left;margin-right: 0.25em;color: #696969;}#sk-container-id-1 label.sk-toggleable__label-arrow:hover:before {color: black;}#sk-container-id-1 div.sk-estimator:hover label.sk-toggleable__label-arrow:before {color: black;}#sk-container-id-1 div.sk-toggleable__content {max-height: 0;max-width: 0;overflow: hidden;text-align: left;background-color: #f0f8ff;}#sk-container-id-1 div.sk-toggleable__content pre {margin: 0.2em;color: black;border-radius: 0.25em;background-color: #f0f8ff;}#sk-container-id-1 input.sk-toggleable__control:checked~div.sk-toggleable__content {max-height: 200px;max-width: 100%;overflow: auto;}#sk-container-id-1 input.sk-toggleable__control:checked~label.sk-toggleable__label-arrow:before {content: \"▾\";}#sk-container-id-1 div.sk-estimator input.sk-toggleable__control:checked~label.sk-toggleable__label {background-color: #d4ebff;}#sk-container-id-1 div.sk-label input.sk-toggleable__control:checked~label.sk-toggleable__label {background-color: #d4ebff;}#sk-container-id-1 input.sk-hidden--visually {border: 0;clip: rect(1px 1px 1px 1px);clip: rect(1px, 1px, 1px, 1px);height: 1px;margin: -1px;overflow: hidden;padding: 0;position: absolute;width: 1px;}#sk-container-id-1 div.sk-estimator {font-family: monospace;background-color: #f0f8ff;border: 1px dotted black;border-radius: 0.25em;box-sizing: border-box;margin-bottom: 0.5em;}#sk-container-id-1 div.sk-estimator:hover {background-color: #d4ebff;}#sk-container-id-1 div.sk-parallel-item::after {content: \"\";width: 100%;border-bottom: 1px solid gray;flex-grow: 1;}#sk-container-id-1 div.sk-label:hover label.sk-toggleable__label {background-color: #d4ebff;}#sk-container-id-1 div.sk-serial::before {content: \"\";position: absolute;border-left: 1px solid gray;box-sizing: border-box;top: 0;bottom: 0;left: 50%;z-index: 0;}#sk-container-id-1 div.sk-serial {display: flex;flex-direction: column;align-items: center;background-color: white;padding-right: 0.2em;padding-left: 0.2em;position: relative;}#sk-container-id-1 div.sk-item {position: relative;z-index: 1;}#sk-container-id-1 div.sk-parallel {display: flex;align-items: stretch;justify-content: center;background-color: white;position: relative;}#sk-container-id-1 div.sk-item::before, #sk-container-id-1 div.sk-parallel-item::before {content: \"\";position: absolute;border-left: 1px solid gray;box-sizing: border-box;top: 0;bottom: 0;left: 50%;z-index: -1;}#sk-container-id-1 div.sk-parallel-item {display: flex;flex-direction: column;z-index: 1;position: relative;background-color: white;}#sk-container-id-1 div.sk-parallel-item:first-child::after {align-self: flex-end;width: 50%;}#sk-container-id-1 div.sk-parallel-item:last-child::after {align-self: flex-start;width: 50%;}#sk-container-id-1 div.sk-parallel-item:only-child::after {width: 0;}#sk-container-id-1 div.sk-dashed-wrapped {border: 1px dashed gray;margin: 0 0.4em 0.5em 0.4em;box-sizing: border-box;padding-bottom: 0.4em;background-color: white;}#sk-container-id-1 div.sk-label label {font-family: monospace;font-weight: bold;display: inline-block;line-height: 1.2em;}#sk-container-id-1 div.sk-label-container {text-align: center;}#sk-container-id-1 div.sk-container {/* jupyter's `normalize.less` sets `[hidden] { display: none; }` but bootstrap.min.css set `[hidden] { display: none !important; }` so we also need the `!important` here to be able to override the default hidden behavior on the sphinx rendered scikit-learn.org. See: https://github.com/scikit-learn/scikit-learn/issues/21755 */display: inline-block !important;position: relative;}#sk-container-id-1 div.sk-text-repr-fallback {display: none;}</style><div id=\"sk-container-id-1\" class=\"sk-top-container\"><div class=\"sk-text-repr-fallback\"><pre>XGBClassifier(base_score=0.5, booster=&#x27;gbtree&#x27;, callbacks=None,\n",
       "              colsample_bylevel=1, colsample_bynode=1, colsample_bytree=1,\n",
       "              early_stopping_rounds=None, enable_categorical=False,\n",
       "              eval_metric=None, feature_types=None, gamma=0, gpu_id=-1,\n",
       "              grow_policy=&#x27;depthwise&#x27;, importance_type=None,\n",
       "              interaction_constraints=&#x27;&#x27;, learning_rate=0.300000012,\n",
       "              max_bin=256, max_cat_threshold=64, max_cat_to_onehot=4,\n",
       "              max_delta_step=0, max_depth=6, max_leaves=0, min_child_weight=1,\n",
       "              missing=nan, monotone_constraints=&#x27;()&#x27;, n_estimators=100,\n",
       "              n_jobs=0, num_parallel_tree=1, predictor=&#x27;auto&#x27;, random_state=42, ...)</pre><b>In a Jupyter environment, please rerun this cell to show the HTML representation or trust the notebook. <br />On GitHub, the HTML representation is unable to render, please try loading this page with nbviewer.org.</b></div><div class=\"sk-container\" hidden><div class=\"sk-item\"><div class=\"sk-estimator sk-toggleable\"><input class=\"sk-toggleable__control sk-hidden--visually\" id=\"sk-estimator-id-1\" type=\"checkbox\" checked><label for=\"sk-estimator-id-1\" class=\"sk-toggleable__label sk-toggleable__label-arrow\">XGBClassifier</label><div class=\"sk-toggleable__content\"><pre>XGBClassifier(base_score=0.5, booster=&#x27;gbtree&#x27;, callbacks=None,\n",
       "              colsample_bylevel=1, colsample_bynode=1, colsample_bytree=1,\n",
       "              early_stopping_rounds=None, enable_categorical=False,\n",
       "              eval_metric=None, feature_types=None, gamma=0, gpu_id=-1,\n",
       "              grow_policy=&#x27;depthwise&#x27;, importance_type=None,\n",
       "              interaction_constraints=&#x27;&#x27;, learning_rate=0.300000012,\n",
       "              max_bin=256, max_cat_threshold=64, max_cat_to_onehot=4,\n",
       "              max_delta_step=0, max_depth=6, max_leaves=0, min_child_weight=1,\n",
       "              missing=nan, monotone_constraints=&#x27;()&#x27;, n_estimators=100,\n",
       "              n_jobs=0, num_parallel_tree=1, predictor=&#x27;auto&#x27;, random_state=42, ...)</pre></div></div></div></div></div>"
      ],
      "text/plain": [
       "XGBClassifier(base_score=0.5, booster='gbtree', callbacks=None,\n",
       "              colsample_bylevel=1, colsample_bynode=1, colsample_bytree=1,\n",
       "              early_stopping_rounds=None, enable_categorical=False,\n",
       "              eval_metric=None, feature_types=None, gamma=0, gpu_id=-1,\n",
       "              grow_policy='depthwise', importance_type=None,\n",
       "              interaction_constraints='', learning_rate=0.300000012,\n",
       "              max_bin=256, max_cat_threshold=64, max_cat_to_onehot=4,\n",
       "              max_delta_step=0, max_depth=6, max_leaves=0, min_child_weight=1,\n",
       "              missing=nan, monotone_constraints='()', n_estimators=100,\n",
       "              n_jobs=0, num_parallel_tree=1, predictor='auto', random_state=42, ...)"
      ]
     },
     "execution_count": 93,
     "metadata": {},
     "output_type": "execute_result"
    }
   ],
   "source": [
    "Xgb_Classifier = XGBClassifier(random_state=42)\n",
    "Xgb_Classifier.fit(X_train,y_train)"
   ]
  },
  {
   "cell_type": "code",
   "execution_count": 94,
   "id": "3bb339ab",
   "metadata": {},
   "outputs": [],
   "source": [
    "prediction = Xgb_Classifier.predict(test_data)"
   ]
  },
  {
   "cell_type": "code",
   "execution_count": 95,
   "id": "19b22cb5",
   "metadata": {},
   "outputs": [],
   "source": [
    "Submission_file = pd.DataFrame({'Loan_ID':test_data_['Loan_ID'],'Loan_Status':prediction})"
   ]
  },
  {
   "cell_type": "code",
   "execution_count": 98,
   "id": "3722d8d8",
   "metadata": {},
   "outputs": [
    {
     "data": {
      "text/html": [
       "<div>\n",
       "<style scoped>\n",
       "    .dataframe tbody tr th:only-of-type {\n",
       "        vertical-align: middle;\n",
       "    }\n",
       "\n",
       "    .dataframe tbody tr th {\n",
       "        vertical-align: top;\n",
       "    }\n",
       "\n",
       "    .dataframe thead th {\n",
       "        text-align: right;\n",
       "    }\n",
       "</style>\n",
       "<table border=\"1\" class=\"dataframe\">\n",
       "  <thead>\n",
       "    <tr style=\"text-align: right;\">\n",
       "      <th></th>\n",
       "      <th>Loan_ID</th>\n",
       "      <th>Loan_Status</th>\n",
       "    </tr>\n",
       "  </thead>\n",
       "  <tbody>\n",
       "    <tr>\n",
       "      <th>0</th>\n",
       "      <td>LP001015</td>\n",
       "      <td>1</td>\n",
       "    </tr>\n",
       "    <tr>\n",
       "      <th>1</th>\n",
       "      <td>LP001022</td>\n",
       "      <td>1</td>\n",
       "    </tr>\n",
       "    <tr>\n",
       "      <th>2</th>\n",
       "      <td>LP001031</td>\n",
       "      <td>1</td>\n",
       "    </tr>\n",
       "    <tr>\n",
       "      <th>3</th>\n",
       "      <td>LP001051</td>\n",
       "      <td>0</td>\n",
       "    </tr>\n",
       "    <tr>\n",
       "      <th>4</th>\n",
       "      <td>LP001054</td>\n",
       "      <td>1</td>\n",
       "    </tr>\n",
       "  </tbody>\n",
       "</table>\n",
       "</div>"
      ],
      "text/plain": [
       "    Loan_ID  Loan_Status\n",
       "0  LP001015            1\n",
       "1  LP001022            1\n",
       "2  LP001031            1\n",
       "3  LP001051            0\n",
       "4  LP001054            1"
      ]
     },
     "execution_count": 98,
     "metadata": {},
     "output_type": "execute_result"
    }
   ],
   "source": [
    "Submission_file.head()"
   ]
  },
  {
   "cell_type": "code",
   "execution_count": 97,
   "id": "cb1fd3b9",
   "metadata": {},
   "outputs": [],
   "source": [
    "Submission_file.to_csv('Submission_file',index=False)"
   ]
  },
  {
   "cell_type": "markdown",
   "id": "828f9720",
   "metadata": {},
   "source": [
    "# ============================================================="
   ]
  },
  {
   "cell_type": "markdown",
   "id": "1507c376",
   "metadata": {},
   "source": [
    "# ============================================================="
   ]
  }
 ],
 "metadata": {
  "kernelspec": {
   "display_name": "Python 3",
   "language": "python",
   "name": "python3"
  },
  "language_info": {
   "codemirror_mode": {
    "name": "ipython",
    "version": 3
   },
   "file_extension": ".py",
   "mimetype": "text/x-python",
   "name": "python",
   "nbconvert_exporter": "python",
   "pygments_lexer": "ipython3",
   "version": "3.8.8"
  }
 },
 "nbformat": 4,
 "nbformat_minor": 5
}
